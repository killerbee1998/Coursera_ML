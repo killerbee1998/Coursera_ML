{
  "nbformat": 4,
  "nbformat_minor": 0,
  "metadata": {
    "colab": {
      "name": "ann_1.ipynb",
      "provenance": [],
      "authorship_tag": "ABX9TyOAylLAHHcTbmqrh0eOmyyW",
      "include_colab_link": true
    },
    "kernelspec": {
      "name": "python3",
      "display_name": "Python 3"
    }
  },
  "cells": [
    {
      "cell_type": "markdown",
      "metadata": {
        "id": "view-in-github",
        "colab_type": "text"
      },
      "source": [
        "<a href=\"https://colab.research.google.com/github/killerbee1998/Coursera_ML/blob/master/ann_1.ipynb\" target=\"_parent\"><img src=\"https://colab.research.google.com/assets/colab-badge.svg\" alt=\"Open In Colab\"/></a>"
      ]
    },
    {
      "cell_type": "markdown",
      "metadata": {
        "id": "oSGqyDJpR4dp",
        "colab_type": "text"
      },
      "source": [
        "import the required libraries"
      ]
    },
    {
      "cell_type": "code",
      "metadata": {
        "id": "6kQfDhaZQcfv",
        "colab_type": "code",
        "colab": {}
      },
      "source": [
        "import numpy as np\n",
        "import pandas as pd\n",
        "import matplotlib.pyplot as plt"
      ],
      "execution_count": 1,
      "outputs": []
    }
  ]
}