{
  "nbformat": 4,
  "nbformat_minor": 0,
  "metadata": {
    "colab": {
      "name": "ML_week2.ipynb",
      "provenance": []
    },
    "kernelspec": {
      "name": "python3",
      "display_name": "Python 3"
    }
  },
  "cells": [
    {
      "cell_type": "markdown",
      "metadata": {
        "id": "rjggFVLkAaFJ",
        "colab_type": "text"
      },
      "source": [
        "Review"
      ]
    },
    {
      "cell_type": "code",
      "metadata": {
        "id": "mV0YR9YDAXcs",
        "colab_type": "code",
        "outputId": "5d4c4be3-a516-4047-9e09-936f0df5c574",
        "colab": {
          "base_uri": "https://localhost:8080/",
          "height": 34
        }
      },
      "source": [
        "import pandas as pd\n",
        "import numpy as np\n",
        "from sklearn.model_selection import train_test_split\n",
        "from sklearn.neighbors import KNeighborsClassifier\n",
        "\n",
        "fruits = pd.read_table('fruit_colors.txt')\n",
        "\n",
        "X = fruits[['mass', 'width', 'height']]\n",
        "y = fruits['fruit_label']\n",
        "\n",
        "\n",
        "fruit_name = dict(zip(fruits['fruit_label'].unique(), fruits['fruit_name'].unique()))\n",
        "\n",
        "knn1 = KNeighborsClassifier(n_neighbors = 1)\n",
        "knn2 = KNeighborsClassifier(n_neighbors = 3)\n",
        "knn3 = KNeighborsClassifier(n_neighbors = 5)\n",
        "\n",
        "avg1 = 0\n",
        "avg2 = 0\n",
        "avg3 = 0\n",
        "\n",
        "for i in range(10):\n",
        "  X_train,X_test, y_train, y_test = train_test_split(X, y)\n",
        "  knn1.fit(X_train,y_train)\n",
        "  knn2.fit(X_train,y_train)\n",
        "  knn3.fit(X_train,y_train)\n",
        "\n",
        "\n",
        "  avg1 += knn1.score(X_test,y_test)\n",
        "  avg2 += knn2.score(X_test,y_test)\n",
        "  avg3 += knn3.score(X_test,y_test)\n",
        "\n",
        "avg1 /= 10\n",
        "avg2 /= 10\n",
        "avg3 /= 10\n",
        "\n",
        "print(avg1, \"   \", avg2, \"   \", avg3)"
      ],
      "execution_count": 0,
      "outputs": [
        {
          "output_type": "stream",
          "text": [
            "0.6533333333333333     0.6666666666666667     0.5733333333333334\n"
          ],
          "name": "stdout"
        }
      ]
    },
    {
      "cell_type": "markdown",
      "metadata": {
        "id": "onLbmXtOK6Xj",
        "colab_type": "text"
      },
      "source": [
        "Synthetic Datasets"
      ]
    },
    {
      "cell_type": "markdown",
      "metadata": {
        "id": "MyDDFJ1FyTsH",
        "colab_type": "text"
      },
      "source": [
        "Regression"
      ]
    },
    {
      "cell_type": "code",
      "metadata": {
        "id": "IbXi77qaxfml",
        "colab_type": "code",
        "outputId": "682082cd-d3f9-43af-9ccb-d93bcabf8287",
        "colab": {
          "base_uri": "https://localhost:8080/",
          "height": 281
        }
      },
      "source": [
        "import matplotlib.pyplot as plt\n",
        "from sklearn.datasets import make_friedman1\n",
        "\n",
        "plt.figure()\n",
        "plt.title('Complex Regression with one variable')\n",
        "x_f1, y_f1 = make_friedman1(n_samples = 100, n_features= 7, random_state = 0)\n",
        "plt.scatter(x_f1[:, 2], y_f1, marker = 'o', s=50)\n",
        "plt.show()"
      ],
      "execution_count": 0,
      "outputs": [
        {
          "output_type": "display_data",
          "data": {
            "image/png": "[encoded data removed]",
            "text/plain": [
              "<Figure size 432x288 with 1 Axes>"
            ]
          },
          "metadata": {
            "tags": [],
            "needs_background": "light"
          }
        }
      ]
    },
    {
      "cell_type": "markdown",
      "metadata": {
        "id": "QXKmJkDt0Nsf",
        "colab_type": "text"
      },
      "source": [
        "Binary Classification"
      ]
    },
    {
      "cell_type": "code",
      "metadata": {
        "id": "mBFLfjwA0KVR",
        "colab_type": "code",
        "outputId": "e657917f-59e8-4343-ad99-02d740bc10f5",
        "colab": {
          "base_uri": "https://localhost:8080/",
          "height": 281
        }
      },
      "source": [
        "from sklearn.datasets import make_classification\n",
        "\n",
        "plt.figure()\n",
        "plt.title('Binary Classification')\n",
        "x_c1, y_c1 = make_classification(n_samples = 100, n_features = 2, n_redundant = 0, n_informative = 2, n_clusters_per_class = 1, flip_y = 0.1,class_sep = 0.5, random_state = 0)\n",
        "plt.scatter(x_c1[:, 0], y_c1, s = 50, c = 'y')\n",
        "plt.scatter(x_c1[:, 1], y_c1, s = 50, c = 'r')\n",
        "\n",
        "plt.show()"
      ],
      "execution_count": 0,
      "outputs": [
        {
          "output_type": "display_data",
          "data": {
            "image/png": "[encoded data removed]",
            "text/plain": [
              "<Figure size 432x288 with 1 Axes>"
            ]
          },
          "metadata": {
            "tags": [],
            "needs_background": "light"
          }
        }
      ]
    },
    {
      "cell_type": "markdown",
      "metadata": {
        "id": "buSwU20b4P9u",
        "colab_type": "text"
      },
      "source": [
        "Knn Regression"
      ]
    },
    {
      "cell_type": "code",
      "metadata": {
        "id": "GEDxfmSC4R-0",
        "colab_type": "code",
        "outputId": "bc9e2078-1f80-41b9-ee27-b340581667e9",
        "colab": {
          "base_uri": "https://localhost:8080/",
          "height": 34
        }
      },
      "source": [
        "import matplotlib.pyplot as plt\n",
        "import pandas as pd\n",
        "from sklearn.model_selection import train_test_split\n",
        "from sklearn.neighbors import KNeighborsRegressor\n",
        "\n",
        "fruits = pd.read_table('fruit_colors.txt')\n",
        "x = fruits[['mass', 'width','height', 'color_score']]\n",
        "y = fruits['fruit_label']\n",
        "\n",
        "x_train, x_test, y_train, y_test = train_test_split(x, y)\n",
        "\n",
        "knn = KNeighborsRegressor(n_neighbors=3).fit(x_train,y_train)\n",
        "print('R sq. test score', knn.score(x_test, y_test))"
      ],
      "execution_count": 0,
      "outputs": [
        {
          "output_type": "stream",
          "text": [
            "R sq. test score 0.31988041853512705\n"
          ],
          "name": "stdout"
        }
      ]
    },
    {
      "cell_type": "markdown",
      "metadata": {
        "id": "RQbSqsytTd3j",
        "colab_type": "text"
      },
      "source": [
        "Linear Regression"
      ]
    },
    {
      "cell_type": "code",
      "metadata": {
        "id": "0jKHGRKJTftS",
        "colab_type": "code",
        "outputId": "0461d143-f03e-4bad-e46b-5813e1a84505",
        "colab": {
          "base_uri": "https://localhost:8080/",
          "height": 317
        }
      },
      "source": [
        "from sklearn.model_selection import train_test_split\n",
        "from sklearn.linear_model import LinearRegression\n",
        "import pandas as pd\n",
        "import matplotlib.pyplot as plt\n",
        "\n",
        "fruits = pd.read_table('fruit_colors.txt')\n",
        "x = fruits[['mass', 'width', 'height']]\n",
        "y = fruits['fruit_label']\n",
        "\n",
        "x_train, x_test, y_train, y_test = train_test_split(x,y)\n",
        "linreg = LinearRegression().fit(x_train, y_train)\n",
        "print(linreg.intercept_)\n",
        "print(linreg.coef_)"
      ],
      "execution_count": 31,
      "outputs": [
        {
          "output_type": "stream",
          "text": [
            "7.088566851930459\n",
            "[ 0.01302537 -1.50536321  0.52485655]\n",
            "0.49362090459834973\n"
          ],
          "name": "stdout"
        },
        {
          "output_type": "display_data",
          "data": {
            "image/png": "[encoded data removed]",
            "text/plain": [
              "<Figure size 432x288 with 1 Axes>"
            ]
          },
          "metadata": {
            "tags": [],
            "needs_background": "light"
          }
        }
      ]
    }
  ]
}