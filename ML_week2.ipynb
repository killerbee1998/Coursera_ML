{
 "cells": [
  {
   "cell_type": "markdown",
   "metadata": {
    "colab_type": "text",
    "id": "rjggFVLkAaFJ"
   },
   "source": [
    "Review"
   ]
  },
  {
   "cell_type": "code",
   "execution_count": 1,
   "metadata": {
    "colab": {
     "base_uri": "https://localhost:8080/",
     "height": 34
    },
    "colab_type": "code",
    "id": "mV0YR9YDAXcs",
    "outputId": "c831f637-5d64-45c2-ff88-c356e30a6e76"
   },
   "outputs": [
    {
     "name": "stdout",
     "output_type": "stream",
     "text": [
      "0.6000000000000001     0.6133333333333333     0.5733333333333333\n"
     ]
    }
   ],
   "source": [
    "import pandas as pd\n",
    "import numpy as np\n",
    "from sklearn.model_selection import train_test_split\n",
    "from sklearn.neighbors import KNeighborsClassifier\n",
    "\n",
    "fruits = pd.read_table('fruit_colors.txt')\n",
    "\n",
    "X = fruits[['mass', 'width', 'height']]\n",
    "y = fruits['fruit_label']\n",
    "\n",
    "\n",
    "fruit_name = dict(zip(fruits['fruit_label'].unique(), fruits['fruit_name'].unique()))\n",
    "\n",
    "knn1 = KNeighborsClassifier(n_neighbors = 1)\n",
    "knn2 = KNeighborsClassifier(n_neighbors = 3)\n",
    "knn3 = KNeighborsClassifier(n_neighbors = 5)\n",
    "\n",
    "avg1 = 0\n",
    "avg2 = 0\n",
    "avg3 = 0\n",
    "\n",
    "for i in range(10):\n",
    "  X_train,X_test, y_train, y_test = train_test_split(X, y)\n",
    "  knn1.fit(X_train,y_train)\n",
    "  knn2.fit(X_train,y_train)\n",
    "  knn3.fit(X_train,y_train)\n",
    "\n",
    "\n",
    "  avg1 += knn1.score(X_test,y_test)\n",
    "  avg2 += knn2.score(X_test,y_test)\n",
    "  avg3 += knn3.score(X_test,y_test)\n",
    "\n",
    "avg1 /= 10\n",
    "avg2 /= 10\n",
    "avg3 /= 10\n",
    "\n",
    "print(avg1, \"   \", avg2, \"   \", avg3)"
   ]
  },
  {
   "cell_type": "markdown",
   "metadata": {
    "colab_type": "text",
    "id": "onLbmXtOK6Xj"
   },
   "source": [
    "Synthetic Datasets"
   ]
  },
  {
   "cell_type": "markdown",
   "metadata": {
    "colab_type": "text",
    "id": "MyDDFJ1FyTsH"
   },
   "source": [
    "Regression"
   ]
  },
  {
   "cell_type": "code",
   "execution_count": 2,
   "metadata": {
    "colab": {
     "base_uri": "https://localhost:8080/",
     "height": 281
    },
    "colab_type": "code",
    "id": "IbXi77qaxfml",
    "outputId": "41aef835-a5eb-4a89-cdb6-0c5b206a19d2"
   },
   "outputs": [
    {
     "data": {
      "image/png": "[encoded data removed]",
      "text/plain": [
       "<Figure size 432x288 with 1 Axes>"
      ]
     },
     "metadata": {
      "needs_background": "light"
     },
     "output_type": "display_data"
    }
   ],
   "source": [
    "import matplotlib.pyplot as plt\n",
    "from sklearn.datasets import make_friedman1\n",
    "\n",
    "plt.figure()\n",
    "plt.title('Complex Regression with one variable')\n",
    "x_f1, y_f1 = make_friedman1(n_samples = 100, n_features= 7, random_state = 0)\n",
    "plt.scatter(x_f1[:, 2], y_f1, marker = 'o', s=50)\n",
    "plt.show()"
   ]
  },
  {
   "cell_type": "markdown",
   "metadata": {
    "colab_type": "text",
    "id": "QXKmJkDt0Nsf"
   },
   "source": [
    "Binary Classification"
   ]
  },
  {
   "cell_type": "code",
   "execution_count": 3,
   "metadata": {
    "colab": {
     "base_uri": "https://localhost:8080/",
     "height": 281
    },
    "colab_type": "code",
    "id": "mBFLfjwA0KVR",
    "outputId": "f5a52df2-f899-46a5-9ba0-50433dca0cdd"
   },
   "outputs": [
    {
     "data": {
      "image/png": "[encoded data removed]",
      "text/plain": [
       "<Figure size 432x288 with 1 Axes>"
      ]
     },
     "metadata": {
      "needs_background": "light"
     },
     "output_type": "display_data"
    }
   ],
   "source": [
    "from sklearn.datasets import make_classification\n",
    "\n",
    "plt.figure()\n",
    "plt.title('Binary Classification')\n",
    "x_c1, y_c1 = make_classification(n_samples = 100, n_features = 2, n_redundant = 0, n_informative = 2, n_clusters_per_class = 1, flip_y = 0.1,class_sep = 0.5, random_state = 0)\n",
    "plt.scatter(x_c1[:, 0], y_c1, s = 50, c = 'y')\n",
    "plt.scatter(x_c1[:, 1], y_c1, s = 50, c = 'r')\n",
    "\n",
    "plt.show()"
   ]
  },
  {
   "cell_type": "markdown",
   "metadata": {
    "colab_type": "text",
    "id": "buSwU20b4P9u"
   },
   "source": [
    "Knn Regression"
   ]
  },
  {
   "cell_type": "code",
   "execution_count": 4,
   "metadata": {
    "colab": {
     "base_uri": "https://localhost:8080/",
     "height": 34
    },
    "colab_type": "code",
    "id": "GEDxfmSC4R-0",
    "outputId": "066e8943-4c6b-4b1c-db37-814f31c68f46"
   },
   "outputs": [
    {
     "name": "stdout",
     "output_type": "stream",
     "text": [
      "R sq. test score 0.11924119241192432\n"
     ]
    }
   ],
   "source": [
    "import matplotlib.pyplot as plt\n",
    "import pandas as pd\n",
    "from sklearn.model_selection import train_test_split\n",
    "from sklearn.neighbors import KNeighborsRegressor\n",
    "\n",
    "fruits = pd.read_table('fruit_colors.txt')\n",
    "x = fruits[['mass', 'width','height', 'color_score']]\n",
    "y = fruits['fruit_label']\n",
    "\n",
    "x_train, x_test, y_train, y_test = train_test_split(x, y)\n",
    "\n",
    "knn = KNeighborsRegressor(n_neighbors=3).fit(x_train,y_train)\n",
    "print('R sq. test score', knn.score(x_test, y_test))"
   ]
  },
  {
   "cell_type": "markdown",
   "metadata": {
    "colab_type": "text",
    "id": "RQbSqsytTd3j"
   },
   "source": [
    "Linear Regression"
   ]
  },
  {
   "cell_type": "code",
   "execution_count": 5,
   "metadata": {
    "colab": {},
    "colab_type": "code",
    "id": "0RhI6TI2u98j"
   },
   "outputs": [],
   "source": [
    "# Preprocess Data\n",
    "fruits = pd.read_table('fruit_colors.txt')\n",
    "x = fruits[['mass', 'width', 'height']]\n",
    "y = fruits['fruit_label']\n",
    "x_train, x_test, y_train, y_test = train_test_split(x,y, random_state = 0)"
   ]
  },
  {
   "cell_type": "code",
   "execution_count": 6,
   "metadata": {
    "colab": {
     "base_uri": "https://localhost:8080/",
     "height": 52
    },
    "colab_type": "code",
    "id": "0jKHGRKJTftS",
    "outputId": "b6ac5b4d-0132-4332-f430-094674906af4"
   },
   "outputs": [
    {
     "name": "stdout",
     "output_type": "stream",
     "text": [
      "9.835739409255927\n",
      "[ 0.01879966 -1.91964979  0.4226744 ]\n"
     ]
    }
   ],
   "source": [
    "from sklearn.model_selection import train_test_split\n",
    "from sklearn.linear_model import LinearRegression\n",
    "import pandas as pd\n",
    "import matplotlib.pyplot as plt\n",
    "\n",
    "linreg = LinearRegression().fit(x_train, y_train)\n",
    "print(linreg.intercept_)\n",
    "print(linreg.coef_)"
   ]
  },
  {
   "cell_type": "code",
   "execution_count": 7,
   "metadata": {
    "colab": {
     "base_uri": "https://localhost:8080/",
     "height": 282
    },
    "colab_type": "code",
    "id": "HUDC20eHrL-2",
    "outputId": "8a517366-0125-4725-ee71-96cd4a22c710"
   },
   "outputs": [
    {
     "name": "stdout",
     "output_type": "stream",
     "text": [
      "0.11996287693912355\n"
     ]
    },
    {
     "data": {
      "image/png": "[encoded data removed]",
      "text/plain": [
       "<Figure size 432x288 with 1 Axes>"
      ]
     },
     "metadata": {
      "needs_background": "light"
     },
     "output_type": "display_data"
    }
   ],
   "source": [
    "plt.figure()\n",
    "plt.scatter(x_test.iloc[:, 0], y_test)\n",
    "plt.plot(x_test.iloc[:, 0], linreg.predict(x_test), color= 'r')\n",
    "print(linreg.score(x_test, y_test))"
   ]
  },
  {
   "cell_type": "markdown",
   "metadata": {
    "colab_type": "text",
    "id": "xWTDdF5BuSLK"
   },
   "source": [
    "Ridge Regression"
   ]
  },
  {
   "cell_type": "code",
   "execution_count": 8,
   "metadata": {
    "colab": {
     "base_uri": "https://localhost:8080/",
     "height": 52
    },
    "colab_type": "code",
    "id": "GrbMZaHJuXpe",
    "outputId": "cec2d2b2-2b32-497c-d1e7-509cb0023e77"
   },
   "outputs": [
    {
     "name": "stdout",
     "output_type": "stream",
     "text": [
      "train 0.72029053335627\n",
      "test 0.18548582193014596\n"
     ]
    }
   ],
   "source": [
    "from sklearn.linear_model import Ridge\n",
    "\n",
    "rigreg = Ridge().fit(x_train, y_train)\n",
    "\n",
    "print(\"train\", rigreg.score(x_train,y_train))\n",
    "print(\"test\", rigreg.score(x_test,y_test))"
   ]
  },
  {
   "cell_type": "markdown",
   "metadata": {
    "colab_type": "text",
    "id": "-qNr8b8L0ntX"
   },
   "source": [
    "Ridge Regression with Min Max Scaling"
   ]
  },
  {
   "cell_type": "code",
   "execution_count": 9,
   "metadata": {
    "colab": {},
    "colab_type": "code",
    "id": "-CCfoy3PZoLp"
   },
   "outputs": [],
   "source": [
    "from sklearn.preprocessing import MinMaxScaler\n",
    "\n",
    "scaler = MinMaxScaler()\n",
    "x_scaled = scaler.fit_transform(x)\n",
    "\n",
    "x_train_scaled, x_test_scaled, y_train_scaled,y_test_scaled = train_test_split(x_scaled, y, random_state = 0)"
   ]
  },
  {
   "cell_type": "code",
   "execution_count": 10,
   "metadata": {
    "colab": {
     "base_uri": "https://localhost:8080/",
     "height": 52
    },
    "colab_type": "code",
    "id": "OKymH8FR0pNk",
    "outputId": "92125f41-b36e-437a-9bf0-a3aba4955881"
   },
   "outputs": [
    {
     "name": "stdout",
     "output_type": "stream",
     "text": [
      "train 0.5199061745325924\n",
      "test 0.255759128189337\n"
     ]
    }
   ],
   "source": [
    "newridge = Ridge().fit(x_train_scaled, y_train_scaled)\n",
    "\n",
    "print(\"train\", newridge.score(x_train_scaled,y_train_scaled))\n",
    "print(\"test\", newridge.score(x_test_scaled,y_test_scaled))"
   ]
  },
  {
   "cell_type": "markdown",
   "metadata": {
    "colab_type": "text",
    "id": "v9kCU1jkSnu_"
   },
   "source": [
    "Lasso Regression\n"
   ]
  },
  {
   "cell_type": "code",
   "execution_count": 11,
   "metadata": {
    "colab": {
     "base_uri": "https://localhost:8080/",
     "height": 52
    },
    "colab_type": "code",
    "id": "Cg-Yh-SaSv8G",
    "outputId": "e795e05e-c919-4318-ff76-0a3e80c78669"
   },
   "outputs": [
    {
     "name": "stdout",
     "output_type": "stream",
     "text": [
      "train 0.0\n",
      "test -0.00014007564084606017\n"
     ]
    }
   ],
   "source": [
    "from sklearn.linear_model import Lasso\n",
    "\n",
    "lasso = Lasso().fit(x_train_scaled,y_train)\n",
    "\n",
    "print(\"train\", lasso.score(x_train_scaled,y_train_scaled))\n",
    "print(\"test\", lasso.score(x_test_scaled,y_test_scaled))"
   ]
  },
  {
   "cell_type": "markdown",
   "metadata": {
    "colab_type": "text",
    "id": "5iVJTEAQY3iF"
   },
   "source": [
    "Polynomial Transformation"
   ]
  },
  {
   "cell_type": "code",
   "execution_count": 12,
   "metadata": {
    "colab": {
     "base_uri": "https://localhost:8080/",
     "height": 52
    },
    "colab_type": "code",
    "id": "fHG8-QNhY5mI",
    "outputId": "072f47a9-3c44-4f6c-c59c-440acd9edec9"
   },
   "outputs": [
    {
     "name": "stdout",
     "output_type": "stream",
     "text": [
      "train 0.7663254685262686\n",
      "test -0.09915447336896377\n"
     ]
    }
   ],
   "source": [
    "from sklearn.linear_model import LinearRegression\n",
    "from sklearn.preprocessing import PolynomialFeatures\n",
    "\n",
    "poly = PolynomialFeatures(degree=2)\n",
    "\n",
    "x_poly = poly.fit_transform(x)\n",
    "x_train_poly, x_test_poly,y_train_poly,  y_test_poly = train_test_split(x_poly, y, random_state = 0)\n",
    "\n",
    "linreg = LinearRegression().fit(x_train_poly, y_train_poly)\n",
    "print(\"train\", linreg.score(x_train_poly,y_train_poly))\n",
    "print(\"test\", linreg.score(x_test_poly,y_test_poly))"
   ]
  },
  {
   "cell_type": "markdown",
   "metadata": {
    "colab_type": "text",
    "id": "D5IK5qG5dmP3"
   },
   "source": [
    "Polynomial Transformation comparison"
   ]
  },
  {
   "cell_type": "code",
   "execution_count": 13,
   "metadata": {
    "colab": {
     "base_uri": "https://localhost:8080/",
     "height": 156
    },
    "colab_type": "code",
    "id": "c5YvnGVldl3W",
    "outputId": "6a05d48b-2942-4536-eea8-cc4d94e9e319"
   },
   "outputs": [
    {
     "name": "stdout",
     "output_type": "stream",
     "text": [
      "linear train 0.7663254685262686\n",
      "linear test -0.09915447336896377\n",
      "\n",
      "ridge train 0.7506693907475959\n",
      "ridge test 0.3338590515005859\n",
      "\n",
      "lasso train 0.7112421933346724\n",
      "lasso test 0.2369284845395031\n"
     ]
    }
   ],
   "source": [
    "from sklearn.linear_model import LinearRegression\n",
    "from sklearn.linear_model import Ridge\n",
    "from sklearn.linear_model import Lasso\n",
    "\n",
    "linreg = LinearRegression().fit(x_train_poly, y_train_poly)\n",
    "ridge = Ridge().fit(x_train_poly, y_train_poly)\n",
    "lasso = Lasso().fit(x_train_poly, y_train_poly)\n",
    "\n",
    "print(\"linear train\", linreg.score(x_train_poly,y_train_poly))\n",
    "print(\"linear test\", linreg.score(x_test_poly,y_test_poly))\n",
    "print()\n",
    "print(\"ridge train\", ridge.score(x_train_poly,y_train_poly))\n",
    "print(\"ridge test\", ridge.score(x_test_poly,y_test_poly))\n",
    "print()\n",
    "print(\"lasso train\", lasso.score(x_train_poly,y_train_poly))\n",
    "print(\"lasso test\", lasso.score(x_test_poly,y_test_poly))"
   ]
  },
  {
   "cell_type": "markdown",
   "metadata": {
    "colab_type": "text",
    "id": "OuEl3BDZF5jx"
   },
   "source": [
    "Logistic Regression"
   ]
  },
  {
   "cell_type": "code",
   "execution_count": 14,
   "metadata": {
    "colab": {
     "base_uri": "https://localhost:8080/",
     "height": 52
    },
    "colab_type": "code",
    "id": "HMaB3DWQF7O0",
    "outputId": "078835f3-97e2-4656-d6ef-a1138f5c9a5f"
   },
   "outputs": [
    {
     "name": "stdout",
     "output_type": "stream",
     "text": [
      "train 0.75\n",
      "test 0.6666666666666666\n"
     ]
    }
   ],
   "source": [
    "from sklearn.linear_model import LogisticRegression\n",
    "\n",
    "x_2d = fruits[['height', 'width']]\n",
    "y_2d = fruits['fruit_label'] \n",
    "y_2d = (y_2d == 1) #label is apple or not\n",
    "\n",
    "x_2d_train, x_2d_test, y_2d_train, y_2d_test = train_test_split(x_2d, y_2d, random_state = 0)\n",
    "\n",
    "logreg = LogisticRegression().fit(x_2d_train, y_2d_train)\n",
    "\n",
    "print(\"train\", logreg.score(x_2d_train, y_2d_train))\n",
    "print(\"test\", logreg.score(x_2d_test, y_2d_test))"
   ]
  },
  {
   "cell_type": "markdown",
   "metadata": {
    "colab_type": "text",
    "id": "FTpD7Sg7lrdx"
   },
   "source": [
    "Linear CLassifiers\n",
    "\n",
    "Support Vector Classifer"
   ]
  },
  {
   "cell_type": "code",
   "execution_count": 15,
   "metadata": {
    "colab": {
     "base_uri": "https://localhost:8080/",
     "height": 52
    },
    "colab_type": "code",
    "id": "UgP0FaHSlw4q",
    "outputId": "da1c9c7d-ef5f-4996-fca1-af31b4f451dd"
   },
   "outputs": [
    {
     "name": "stdout",
     "output_type": "stream",
     "text": [
      "train 0.8181818181818182\n",
      "test 0.6\n"
     ]
    }
   ],
   "source": [
    "from sklearn.svm import SVC\n",
    "\n",
    "clf = SVC(kernel = 'linear').fit(x_train, y_train)\n",
    "\n",
    "print(\"train\", clf.score(x_train, y_train))\n",
    "print(\"test\", clf.score(x_test, y_test))"
   ]
  },
  {
   "cell_type": "markdown",
   "metadata": {
    "colab_type": "text",
    "id": "myhJSTJqoWKo"
   },
   "source": [
    "Multi Class Classifiers with Linear Models\n",
    "\n",
    "To show this we show the coefficients & intercepts of the linear svc and  see that there are multiple values instead of just one\n",
    "\n",
    "In this instance sklaern creates a seperate binary classifier for each category and pushes the coefficient and intercept values to the linear svc. The category with the highest points is predicted to be true\n"
   ]
  },
  {
   "cell_type": "code",
   "execution_count": 16,
   "metadata": {
    "colab": {
     "base_uri": "https://localhost:8080/",
     "height": 191
    },
    "colab_type": "code",
    "id": "Urr_b-Ngobuj",
    "outputId": "ff5de399-3204-4853-dbea-288bd27fc14a"
   },
   "outputs": [
    {
     "name": "stdout",
     "output_type": "stream",
     "text": [
      "Coefficients w\n",
      " [[ 3.02424839e-02  6.41507235e-04  1.19137058e-03]\n",
      " [-2.12594919e-02  1.15556036e+00 -6.10239051e-01]\n",
      " [ 2.64397468e-02  7.01519998e-01 -1.37490811e+00]\n",
      " [-3.44045288e-02 -3.55908919e-04 -1.60159013e-03]\n",
      " [-6.60880577e-02  4.40587051e-04 -6.16821872e-03]\n",
      " [ 4.16380038e-02  6.90107186e-01 -1.92052285e+00]]\n",
      "\n",
      "intercepts b\n",
      " [-3.61043044  0.2842815   2.0347587   3.96852391  6.70983262  4.43259876]\n"
     ]
    }
   ],
   "source": [
    "print(\"Coefficients w\\n\" ,clf.coef_)\n",
    "print()\n",
    "print(\"intercepts b\\n\" ,clf.intercept_)"
   ]
  },
  {
   "cell_type": "markdown",
   "metadata": {
    "colab_type": "text",
    "id": "iIkR9g2if8K6"
   },
   "source": [
    "Kernelized Support Vector Calssifiers\n",
    "\n",
    "Radial Kernel"
   ]
  },
  {
   "cell_type": "code",
   "execution_count": 17,
   "metadata": {
    "colab": {
     "base_uri": "https://localhost:8080/",
     "height": 52
    },
    "colab_type": "code",
    "id": "b3tjIxTNf7Yu",
    "outputId": "8fee74b8-7b11-448b-90fb-1f92e160387b"
   },
   "outputs": [
    {
     "name": "stdout",
     "output_type": "stream",
     "text": [
      "train 0.5909090909090909\n",
      "test 0.26666666666666666\n"
     ]
    }
   ],
   "source": [
    "from sklearn.svm import SVC\n",
    "\n",
    "rfb = SVC(kernel='rbf').fit(x_train, y_train)\n",
    "\n",
    "print(\"train\", rfb.score(x_train, y_train))\n",
    "print(\"test\", rfb.score(x_test, y_test))"
   ]
  },
  {
   "cell_type": "markdown",
   "metadata": {
    "colab_type": "text",
    "id": "yy9ZV9ItqRFg"
   },
   "source": [
    "Polynomial Kernel"
   ]
  },
  {
   "cell_type": "code",
   "execution_count": 18,
   "metadata": {
    "colab": {
     "base_uri": "https://localhost:8080/",
     "height": 52
    },
    "colab_type": "code",
    "id": "JKQVXurZpshH",
    "outputId": "9df2c63e-b0f6-412a-86af-c6446305d52f"
   },
   "outputs": [
    {
     "name": "stdout",
     "output_type": "stream",
     "text": [
      "train 0.5909090909090909\n",
      "test 0.26666666666666666\n"
     ]
    }
   ],
   "source": [
    "from sklearn.svm import SVC\n",
    "\n",
    "poly = SVC(kernel = \"poly\", degree = 4).fit(x_train, y_train)\n",
    "\n",
    "\n",
    "print(\"train\", poly.score(x_train, y_train))\n",
    "print(\"test\", poly.score(x_test, y_test))"
   ]
  },
  {
   "cell_type": "markdown",
   "metadata": {
    "colab_type": "text",
    "id": "edmLB9Qqs0Ms"
   },
   "source": [
    "Cross Validationn"
   ]
  },
  {
   "cell_type": "code",
   "execution_count": 19,
   "metadata": {
    "colab": {
     "base_uri": "https://localhost:8080/",
     "height": 34
    },
    "colab_type": "code",
    "id": "ePU8paVps3Jq",
    "outputId": "72d464c6-ae0c-4e4d-d51f-6fe79dfa1019"
   },
   "outputs": [
    {
     "data": {
      "text/plain": [
       "0.5409090909090909"
      ]
     },
     "execution_count": 19,
     "metadata": {},
     "output_type": "execute_result"
    }
   ],
   "source": [
    "from sklearn.model_selection import cross_val_score\n",
    "from sklearn.neighbors import KNeighborsClassifier\n",
    "\n",
    "knn = KNeighborsClassifier(n_neighbors=5)\n",
    "x = fruits[['mass', 'width', 'height']]\n",
    "y = fruits['fruit_label']\n",
    "\n",
    "np.mean(cross_val_score(knn,x,y))"
   ]
  },
  {
   "cell_type": "markdown",
   "metadata": {
    "colab_type": "text",
    "id": "RDvh-k3bwR9b"
   },
   "source": [
    "Validation Curve"
   ]
  },
  {
   "cell_type": "code",
   "execution_count": 20,
   "metadata": {
    "colab": {
     "base_uri": "https://localhost:8080/",
     "height": 282
    },
    "colab_type": "code",
    "id": "EMS_9bPhvxxL",
    "outputId": "d6a7b341-f111-464a-9cda-dbbaefe96ff3"
   },
   "outputs": [
    {
     "data": {
      "text/plain": [
       "<matplotlib.legend.Legend at 0x7f6565a5bd90>"
      ]
     },
     "execution_count": 20,
     "metadata": {},
     "output_type": "execute_result"
    },
    {
     "data": {
      "image/png": "[encoded data removed]",
      "text/plain": [
       "<Figure size 432x288 with 1 Axes>"
      ]
     },
     "metadata": {
      "needs_background": "light"
     },
     "output_type": "display_data"
    }
   ],
   "source": [
    "from sklearn.model_selection import validation_curve\n",
    "from sklearn.svm import SVC\n",
    "import numpy as np\n",
    "import matplotlib.pyplot as plt\n",
    " \n",
    "p_range = np.logspace(-3,3,4)\n",
    "train_score, test_score = validation_curve(SVC(), x , y, param_name='gamma', param_range=p_range)\n",
    "\n",
    "mean = []\n",
    "for i in range(len(train_score)):\n",
    "  mean.append(np.mean(train_score[i]))\n",
    "\n",
    "train_score = mean\n",
    "\n",
    "mean = []\n",
    "for i in range(len(test_score)):\n",
    "  mean.append(np.mean(test_score[i]))\n",
    "\n",
    "test_score = mean\n",
    "\n",
    "plt.figure()\n",
    "plt.plot(p_range, train_score, color = 'g', label = 'train score')\n",
    "plt.plot(p_range, test_score, color = 'y', label = 'test score')\n",
    "plt.legend()"
   ]
  },
  {
   "cell_type": "markdown",
   "metadata": {
    "colab_type": "text",
    "id": "tBni28lvQ2w7"
   },
   "source": [
    "Descion Trees using iris dataset"
   ]
  },
  {
   "cell_type": "code",
   "execution_count": 21,
   "metadata": {
    "colab": {},
    "colab_type": "code",
    "id": "xeA_wq3BSU2J"
   },
   "outputs": [],
   "source": [
    "from sklearn.datasets import load_iris\n",
    "from sklearn.model_selection import train_test_split\n",
    "\n",
    "iris = load_iris()\n",
    "x_iris = iris.data\n",
    "y_iris = iris.target\n",
    "iris_names = iris.target_names\n",
    "\n",
    "x_iris_train, x_iris_test, y_iris_train, y_iris_test = train_test_split(x_iris, y_iris, random_state = 0)"
   ]
  },
  {
   "cell_type": "code",
   "execution_count": 22,
   "metadata": {
    "colab": {
     "base_uri": "https://localhost:8080/",
     "height": 52
    },
    "colab_type": "code",
    "id": "5O2FiDZBT_Cf",
    "outputId": "c3cb8ce7-e23c-49ab-8033-df5636024012"
   },
   "outputs": [
    {
     "name": "stdout",
     "output_type": "stream",
     "text": [
      "train 1.0\n",
      "test 0.9736842105263158\n"
     ]
    }
   ],
   "source": [
    "from sklearn.tree import DecisionTreeClassifier\n",
    "\n",
    "dtree = DecisionTreeClassifier().fit(x_iris_train, y_iris_train)\n",
    "\n",
    "print(\"train\", dtree.score(x_iris_train, y_iris_train))\n",
    "print(\"test\", dtree.score(x_iris_test, y_iris_test))"
   ]
  },
  {
   "cell_type": "markdown",
   "metadata": {
    "colab_type": "text",
    "id": "djf6GB4PXh8x"
   },
   "source": [
    "Limiting Max Depth of tree"
   ]
  },
  {
   "cell_type": "code",
   "execution_count": 23,
   "metadata": {
    "colab": {
     "base_uri": "https://localhost:8080/",
     "height": 52
    },
    "colab_type": "code",
    "id": "v3YVMqhiXdLf",
    "outputId": "9771190b-a735-4ae3-e400-da80a2355ded"
   },
   "outputs": [
    {
     "name": "stdout",
     "output_type": "stream",
     "text": [
      "train 0.9821428571428571\n",
      "test 0.9736842105263158\n"
     ]
    }
   ],
   "source": [
    "dtree = DecisionTreeClassifier(max_depth=3).fit(x_iris_train, y_iris_train)\n",
    "\n",
    "print(\"train\", dtree.score(x_iris_train, y_iris_train))\n",
    "print(\"test\", dtree.score(x_iris_test, y_iris_test))"
   ]
  }
 ],
 "metadata": {
  "colab": {
   "name": "ML_week2.ipynb",
   "provenance": []
  },
  "kernelspec": {
   "display_name": "Python 3",
   "language": "python",
   "name": "python3"
  },
  "language_info": {
   "codemirror_mode": {
    "name": "ipython",
    "version": 3
   },
   "file_extension": ".py",
   "mimetype": "text/x-python",
   "name": "python",
   "nbconvert_exporter": "python",
   "pygments_lexer": "ipython3",
   "version": "3.8.3"
  }
 },
 "nbformat": 4,
 "nbformat_minor": 4
}
