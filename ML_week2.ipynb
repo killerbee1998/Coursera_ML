{
  "nbformat": 4,
  "nbformat_minor": 0,
  "metadata": {
    "colab": {
      "name": "ML_week2.ipynb",
      "provenance": []
    },
    "kernelspec": {
      "name": "python3",
      "display_name": "Python 3"
    }
  },
  "cells": [
    {
      "cell_type": "markdown",
      "metadata": {
        "id": "rjggFVLkAaFJ",
        "colab_type": "text"
      },
      "source": [
        "Review"
      ]
    },
    {
      "cell_type": "code",
      "metadata": {
        "id": "mV0YR9YDAXcs",
        "colab_type": "code",
        "colab": {
          "base_uri": "https://localhost:8080/",
          "height": 34
        },
        "outputId": "b58e691b-19bf-4b86-e1ad-645f1085a254"
      },
      "source": [
        "import pandas as pd\n",
        "import numpy as np\n",
        "from sklearn.model_selection import train_test_split\n",
        "from sklearn.neighbors import KNeighborsClassifier\n",
        "\n",
        "fruits = pd.read_table('fruit_colors.txt')\n",
        "\n",
        "X = fruits[['mass', 'width', 'height']]\n",
        "y = fruits['fruit_label']\n",
        "\n",
        "\n",
        "fruit_name = dict(zip(fruits['fruit_label'].unique(), fruits['fruit_name'].unique()))\n",
        "\n",
        "knn = KNeighborsClassifier(n_neighbors = 1)\n",
        "\n",
        "avg = 0\n",
        "\n",
        "for i in range(10):\n",
        "  X_train,X_test, y_train, y_test = train_test_split(X, y)\n",
        "  knn.fit(X_train,y_train)\n",
        "  avg += knn.score(X_test,y_test)\n",
        "\n",
        "avg /= 10\n",
        "print(avg)"
      ],
      "execution_count": 49,
      "outputs": [
        {
          "output_type": "stream",
          "text": [
            "0.6733333333333332\n"
          ],
          "name": "stdout"
        }
      ]
    },
    {
      "cell_type": "markdown",
      "metadata": {
        "id": "onLbmXtOK6Xj",
        "colab_type": "text"
      },
      "source": [
        ""
      ]
    }
  ]
}