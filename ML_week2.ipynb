{
  "nbformat": 4,
  "nbformat_minor": 0,
  "metadata": {
    "colab": {
      "name": "ML_week2.ipynb",
      "provenance": []
    },
    "kernelspec": {
      "name": "python3",
      "display_name": "Python 3"
    }
  },
  "cells": [
    {
      "cell_type": "markdown",
      "metadata": {
        "id": "rjggFVLkAaFJ",
        "colab_type": "text"
      },
      "source": [
        "Review"
      ]
    },
    {
      "cell_type": "code",
      "metadata": {
        "id": "mV0YR9YDAXcs",
        "colab_type": "code",
        "outputId": "a8e2ffaf-f877-4f18-bc58-06697cdb7dea",
        "colab": {
          "base_uri": "https://localhost:8080/",
          "height": 34
        }
      },
      "source": [
        "import pandas as pd\n",
        "import numpy as np\n",
        "from sklearn.model_selection import train_test_split\n",
        "from sklearn.neighbors import KNeighborsClassifier\n",
        "\n",
        "fruits = pd.read_table('fruit_colors.txt')\n",
        "\n",
        "X = fruits[['mass', 'width', 'height']]\n",
        "y = fruits['fruit_label']\n",
        "\n",
        "\n",
        "fruit_name = dict(zip(fruits['fruit_label'].unique(), fruits['fruit_name'].unique()))\n",
        "\n",
        "knn1 = KNeighborsClassifier(n_neighbors = 1)\n",
        "knn2 = KNeighborsClassifier(n_neighbors = 3)\n",
        "knn3 = KNeighborsClassifier(n_neighbors = 5)\n",
        "\n",
        "avg1 = 0\n",
        "avg2 = 0\n",
        "avg3 = 0\n",
        "\n",
        "for i in range(10):\n",
        "  X_train,X_test, y_train, y_test = train_test_split(X, y)\n",
        "  knn1.fit(X_train,y_train)\n",
        "  knn2.fit(X_train,y_train)\n",
        "  knn3.fit(X_train,y_train)\n",
        "\n",
        "\n",
        "  avg1 += knn1.score(X_test,y_test)\n",
        "  avg2 += knn2.score(X_test,y_test)\n",
        "  avg3 += knn3.score(X_test,y_test)\n",
        "\n",
        "avg1 /= 10\n",
        "avg2 /= 10\n",
        "avg3 /= 10\n",
        "\n",
        "print(avg1, \"   \", avg2, \"   \", avg3)"
      ],
      "execution_count": 55,
      "outputs": [
        {
          "output_type": "stream",
          "text": [
            "0.6733333333333333     0.6466666666666666     0.5266666666666666\n"
          ],
          "name": "stdout"
        }
      ]
    },
    {
      "cell_type": "markdown",
      "metadata": {
        "id": "onLbmXtOK6Xj",
        "colab_type": "text"
      },
      "source": [
        "Synthetic Datasets"
      ]
    },
    {
      "cell_type": "markdown",
      "metadata": {
        "id": "MyDDFJ1FyTsH",
        "colab_type": "text"
      },
      "source": [
        "Regression"
      ]
    },
    {
      "cell_type": "code",
      "metadata": {
        "id": "IbXi77qaxfml",
        "colab_type": "code",
        "outputId": "4a9d3fb2-b06a-4701-a4ad-51513d313506",
        "colab": {
          "base_uri": "https://localhost:8080/",
          "height": 281
        }
      },
      "source": [
        "import matplotlib.pyplot as plt\n",
        "from sklearn.datasets import make_friedman1\n",
        "\n",
        "plt.figure()\n",
        "plt.title('Complex Regression with one variable')\n",
        "x_f1, y_f1 = make_friedman1(n_samples = 100, n_features= 7, random_state = 0)\n",
        "plt.scatter(x_f1[:, 2], y_f1, marker = 'o', s=50)\n",
        "plt.show()"
      ],
      "execution_count": 56,
      "outputs": [
        {
          "output_type": "display_data",
          "data": {
            "image/png": "[encoded data removed]",
            "text/plain": [
              "<Figure size 432x288 with 1 Axes>"
            ]
          },
          "metadata": {
            "tags": [],
            "needs_background": "light"
          }
        }
      ]
    },
    {
      "cell_type": "markdown",
      "metadata": {
        "id": "QXKmJkDt0Nsf",
        "colab_type": "text"
      },
      "source": [
        "Binary Classification"
      ]
    },
    {
      "cell_type": "code",
      "metadata": {
        "id": "mBFLfjwA0KVR",
        "colab_type": "code",
        "outputId": "f7aeb87b-4cb6-4f14-de96-c6a3a1619c9c",
        "colab": {
          "base_uri": "https://localhost:8080/",
          "height": 281
        }
      },
      "source": [
        "from sklearn.datasets import make_classification\n",
        "\n",
        "plt.figure()\n",
        "plt.title('Binary Classification')\n",
        "x_c1, y_c1 = make_classification(n_samples = 100, n_features = 2, n_redundant = 0, n_informative = 2, n_clusters_per_class = 1, flip_y = 0.1,class_sep = 0.5, random_state = 0)\n",
        "plt.scatter(x_c1[:, 0], y_c1, s = 50, c = 'y')\n",
        "plt.scatter(x_c1[:, 1], y_c1, s = 50, c = 'r')\n",
        "\n",
        "plt.show()"
      ],
      "execution_count": 57,
      "outputs": [
        {
          "output_type": "display_data",
          "data": {
            "image/png": "[encoded data removed]",
            "text/plain": [
              "<Figure size 432x288 with 1 Axes>"
            ]
          },
          "metadata": {
            "tags": [],
            "needs_background": "light"
          }
        }
      ]
    },
    {
      "cell_type": "markdown",
      "metadata": {
        "id": "buSwU20b4P9u",
        "colab_type": "text"
      },
      "source": [
        "Knn Regression"
      ]
    },
    {
      "cell_type": "code",
      "metadata": {
        "id": "GEDxfmSC4R-0",
        "colab_type": "code",
        "outputId": "8ed893c9-a7db-4051-d8a6-cb32b9d735da",
        "colab": {
          "base_uri": "https://localhost:8080/",
          "height": 34
        }
      },
      "source": [
        "import matplotlib.pyplot as plt\n",
        "import pandas as pd\n",
        "from sklearn.model_selection import train_test_split\n",
        "from sklearn.neighbors import KNeighborsRegressor\n",
        "\n",
        "fruits = pd.read_table('fruit_colors.txt')\n",
        "x = fruits[['mass', 'width','height', 'color_score']]\n",
        "y = fruits['fruit_label']\n",
        "\n",
        "x_train, x_test, y_train, y_test = train_test_split(x, y)\n",
        "\n",
        "knn = KNeighborsRegressor(n_neighbors=3).fit(x_train,y_train)\n",
        "print('R sq. test score', knn.score(x_test, y_test))"
      ],
      "execution_count": 58,
      "outputs": [
        {
          "output_type": "stream",
          "text": [
            "R sq. test score -0.07323232323232354\n"
          ],
          "name": "stdout"
        }
      ]
    },
    {
      "cell_type": "markdown",
      "metadata": {
        "id": "RQbSqsytTd3j",
        "colab_type": "text"
      },
      "source": [
        "Linear Regression"
      ]
    },
    {
      "cell_type": "code",
      "metadata": {
        "id": "0RhI6TI2u98j",
        "colab_type": "code",
        "colab": {}
      },
      "source": [
        "# Preprocess Data\n",
        "fruits = pd.read_table('fruit_colors.txt')\n",
        "x = fruits[['mass', 'width', 'height']]\n",
        "y = fruits['fruit_label']\n",
        "x_train, x_test, y_train, y_test = train_test_split(x,y)"
      ],
      "execution_count": 0,
      "outputs": []
    },
    {
      "cell_type": "code",
      "metadata": {
        "id": "0jKHGRKJTftS",
        "colab_type": "code",
        "outputId": "95a48cc4-ced4-462a-cf9f-21afe61e5cf3",
        "colab": {
          "base_uri": "https://localhost:8080/",
          "height": 52
        }
      },
      "source": [
        "from sklearn.model_selection import train_test_split\n",
        "from sklearn.linear_model import LinearRegression\n",
        "import pandas as pd\n",
        "import matplotlib.pyplot as plt\n",
        "\n",
        "linreg = LinearRegression().fit(x_train, y_train)\n",
        "print(linreg.intercept_)\n",
        "print(linreg.coef_)"
      ],
      "execution_count": 60,
      "outputs": [
        {
          "output_type": "stream",
          "text": [
            "7.21689214603853\n",
            "[ 0.01326767 -1.52322969  0.51398536]\n"
          ],
          "name": "stdout"
        }
      ]
    },
    {
      "cell_type": "code",
      "metadata": {
        "id": "HUDC20eHrL-2",
        "colab_type": "code",
        "colab": {
          "base_uri": "https://localhost:8080/",
          "height": 282
        },
        "outputId": "8b9d75e3-c12b-46c4-95b8-23d4ca4917f5"
      },
      "source": [
        "plt.figure()\n",
        "plt.scatter(x_test.iloc[:, 0], y_test)\n",
        "plt.plot(x_test.iloc[:, 0], linreg.predict(x_test), color= 'r')\n",
        "print(linreg.score(x_test, y_test))"
      ],
      "execution_count": 61,
      "outputs": [
        {
          "output_type": "stream",
          "text": [
            "0.8699308441964831\n"
          ],
          "name": "stdout"
        },
        {
          "output_type": "display_data",
          "data": {
            "image/png": "[encoded data removed]",
            "text/plain": [
              "<Figure size 432x288 with 1 Axes>"
            ]
          },
          "metadata": {
            "tags": [],
            "needs_background": "light"
          }
        }
      ]
    },
    {
      "cell_type": "markdown",
      "metadata": {
        "id": "xWTDdF5BuSLK",
        "colab_type": "text"
      },
      "source": [
        "Ridge Regression"
      ]
    },
    {
      "cell_type": "code",
      "metadata": {
        "id": "GrbMZaHJuXpe",
        "colab_type": "code",
        "colab": {
          "base_uri": "https://localhost:8080/",
          "height": 34
        },
        "outputId": "18d4323c-e363-4f30-c61c-1f8fbb86228e"
      },
      "source": [
        "from sklearn.linear_model import Ridge\n",
        "\n",
        "rigreg = Ridge().fit(x_train, y_train)\n",
        "rigreg.score(x_test, y_test)"
      ],
      "execution_count": 62,
      "outputs": [
        {
          "output_type": "execute_result",
          "data": {
            "text/plain": [
              "0.838048865986234"
            ]
          },
          "metadata": {
            "tags": []
          },
          "execution_count": 62
        }
      ]
    }
  ]
}