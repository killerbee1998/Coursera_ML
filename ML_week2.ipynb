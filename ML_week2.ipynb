{
  "nbformat": 4,
  "nbformat_minor": 0,
  "metadata": {
    "colab": {
      "name": "ML_week2.ipynb",
      "provenance": []
    },
    "kernelspec": {
      "name": "python3",
      "display_name": "Python 3"
    }
  },
  "cells": [
    {
      "cell_type": "markdown",
      "metadata": {
        "id": "rjggFVLkAaFJ",
        "colab_type": "text"
      },
      "source": [
        "Review"
      ]
    },
    {
      "cell_type": "code",
      "metadata": {
        "id": "mV0YR9YDAXcs",
        "colab_type": "code",
        "outputId": "0a475224-d144-43cf-c47d-678859edd941",
        "colab": {
          "base_uri": "https://localhost:8080/",
          "height": 34
        }
      },
      "source": [
        "import pandas as pd\n",
        "import numpy as np\n",
        "from sklearn.model_selection import train_test_split\n",
        "from sklearn.neighbors import KNeighborsClassifier\n",
        "\n",
        "fruits = pd.read_table('fruit_colors.txt')\n",
        "\n",
        "X = fruits[['mass', 'width', 'height']]\n",
        "y = fruits['fruit_label']\n",
        "\n",
        "\n",
        "fruit_name = dict(zip(fruits['fruit_label'].unique(), fruits['fruit_name'].unique()))\n",
        "\n",
        "knn1 = KNeighborsClassifier(n_neighbors = 1)\n",
        "knn2 = KNeighborsClassifier(n_neighbors = 3)\n",
        "knn3 = KNeighborsClassifier(n_neighbors = 5)\n",
        "\n",
        "avg1 = 0\n",
        "avg2 = 0\n",
        "avg3 = 0\n",
        "\n",
        "for i in range(10):\n",
        "  X_train,X_test, y_train, y_test = train_test_split(X, y)\n",
        "  knn1.fit(X_train,y_train)\n",
        "  knn2.fit(X_train,y_train)\n",
        "  knn3.fit(X_train,y_train)\n",
        "\n",
        "\n",
        "  avg1 += knn1.score(X_test,y_test)\n",
        "  avg2 += knn2.score(X_test,y_test)\n",
        "  avg3 += knn3.score(X_test,y_test)\n",
        "\n",
        "avg1 /= 10\n",
        "avg2 /= 10\n",
        "avg3 /= 10\n",
        "\n",
        "print(avg1, \"   \", avg2, \"   \", avg3)"
      ],
      "execution_count": 296,
      "outputs": [
        {
          "output_type": "stream",
          "text": [
            "0.6533333333333333     0.6666666666666665     0.5599999999999999\n"
          ],
          "name": "stdout"
        }
      ]
    },
    {
      "cell_type": "markdown",
      "metadata": {
        "id": "onLbmXtOK6Xj",
        "colab_type": "text"
      },
      "source": [
        "Synthetic Datasets"
      ]
    },
    {
      "cell_type": "markdown",
      "metadata": {
        "id": "MyDDFJ1FyTsH",
        "colab_type": "text"
      },
      "source": [
        "Regression"
      ]
    },
    {
      "cell_type": "code",
      "metadata": {
        "id": "IbXi77qaxfml",
        "colab_type": "code",
        "outputId": "61057af3-fc0c-4941-807c-7dccd2001960",
        "colab": {
          "base_uri": "https://localhost:8080/",
          "height": 281
        }
      },
      "source": [
        "import matplotlib.pyplot as plt\n",
        "from sklearn.datasets import make_friedman1\n",
        "\n",
        "plt.figure()\n",
        "plt.title('Complex Regression with one variable')\n",
        "x_f1, y_f1 = make_friedman1(n_samples = 100, n_features= 7, random_state = 0)\n",
        "plt.scatter(x_f1[:, 2], y_f1, marker = 'o', s=50)\n",
        "plt.show()"
      ],
      "execution_count": 297,
      "outputs": [
        {
          "output_type": "display_data",
          "data": {
            "image/png": "[encoded data removed]",
            "text/plain": [
              "<Figure size 432x288 with 1 Axes>"
            ]
          },
          "metadata": {
            "tags": [],
            "needs_background": "light"
          }
        }
      ]
    },
    {
      "cell_type": "markdown",
      "metadata": {
        "id": "QXKmJkDt0Nsf",
        "colab_type": "text"
      },
      "source": [
        "Binary Classification"
      ]
    },
    {
      "cell_type": "code",
      "metadata": {
        "id": "mBFLfjwA0KVR",
        "colab_type": "code",
        "outputId": "e9b5a501-8557-4ce9-d8eb-8f4e4d29fe94",
        "colab": {
          "base_uri": "https://localhost:8080/",
          "height": 281
        }
      },
      "source": [
        "from sklearn.datasets import make_classification\n",
        "\n",
        "plt.figure()\n",
        "plt.title('Binary Classification')\n",
        "x_c1, y_c1 = make_classification(n_samples = 100, n_features = 2, n_redundant = 0, n_informative = 2, n_clusters_per_class = 1, flip_y = 0.1,class_sep = 0.5, random_state = 0)\n",
        "plt.scatter(x_c1[:, 0], y_c1, s = 50, c = 'y')\n",
        "plt.scatter(x_c1[:, 1], y_c1, s = 50, c = 'r')\n",
        "\n",
        "plt.show()"
      ],
      "execution_count": 298,
      "outputs": [
        {
          "output_type": "display_data",
          "data": {
            "image/png": "[encoded data removed]",
            "text/plain": [
              "<Figure size 432x288 with 1 Axes>"
            ]
          },
          "metadata": {
            "tags": [],
            "needs_background": "light"
          }
        }
      ]
    },
    {
      "cell_type": "markdown",
      "metadata": {
        "id": "buSwU20b4P9u",
        "colab_type": "text"
      },
      "source": [
        "Knn Regression"
      ]
    },
    {
      "cell_type": "code",
      "metadata": {
        "id": "GEDxfmSC4R-0",
        "colab_type": "code",
        "outputId": "c115bd4b-18ae-4839-ee1d-fc56ac98317f",
        "colab": {
          "base_uri": "https://localhost:8080/",
          "height": 34
        }
      },
      "source": [
        "import matplotlib.pyplot as plt\n",
        "import pandas as pd\n",
        "from sklearn.model_selection import train_test_split\n",
        "from sklearn.neighbors import KNeighborsRegressor\n",
        "\n",
        "fruits = pd.read_table('fruit_colors.txt')\n",
        "x = fruits[['mass', 'width','height', 'color_score']]\n",
        "y = fruits['fruit_label']\n",
        "\n",
        "x_train, x_test, y_train, y_test = train_test_split(x, y)\n",
        "\n",
        "knn = KNeighborsRegressor(n_neighbors=3).fit(x_train,y_train)\n",
        "print('R sq. test score', knn.score(x_test, y_test))"
      ],
      "execution_count": 299,
      "outputs": [
        {
          "output_type": "stream",
          "text": [
            "R sq. test score 0.2829457364341085\n"
          ],
          "name": "stdout"
        }
      ]
    },
    {
      "cell_type": "markdown",
      "metadata": {
        "id": "RQbSqsytTd3j",
        "colab_type": "text"
      },
      "source": [
        "Linear Regression"
      ]
    },
    {
      "cell_type": "code",
      "metadata": {
        "id": "0RhI6TI2u98j",
        "colab_type": "code",
        "colab": {}
      },
      "source": [
        "# Preprocess Data\n",
        "fruits = pd.read_table('fruit_colors.txt')\n",
        "x = fruits[['mass', 'width', 'height']]\n",
        "y = fruits['fruit_label']\n",
        "x_train, x_test, y_train, y_test = train_test_split(x,y, random_state = 0)"
      ],
      "execution_count": 0,
      "outputs": []
    },
    {
      "cell_type": "code",
      "metadata": {
        "id": "0jKHGRKJTftS",
        "colab_type": "code",
        "outputId": "042185f2-a156-4167-d5a6-ee6335c7fa8a",
        "colab": {
          "base_uri": "https://localhost:8080/",
          "height": 52
        }
      },
      "source": [
        "from sklearn.model_selection import train_test_split\n",
        "from sklearn.linear_model import LinearRegression\n",
        "import pandas as pd\n",
        "import matplotlib.pyplot as plt\n",
        "\n",
        "linreg = LinearRegression().fit(x_train, y_train)\n",
        "print(linreg.intercept_)\n",
        "print(linreg.coef_)"
      ],
      "execution_count": 301,
      "outputs": [
        {
          "output_type": "stream",
          "text": [
            "9.83573940925593\n",
            "[ 0.01879966 -1.91964979  0.4226744 ]\n"
          ],
          "name": "stdout"
        }
      ]
    },
    {
      "cell_type": "code",
      "metadata": {
        "id": "HUDC20eHrL-2",
        "colab_type": "code",
        "colab": {
          "base_uri": "https://localhost:8080/",
          "height": 282
        },
        "outputId": "62d10d72-2984-4744-a98e-48bd52d42fb1"
      },
      "source": [
        "plt.figure()\n",
        "plt.scatter(x_test.iloc[:, 0], y_test)\n",
        "plt.plot(x_test.iloc[:, 0], linreg.predict(x_test), color= 'r')\n",
        "print(linreg.score(x_test, y_test))"
      ],
      "execution_count": 302,
      "outputs": [
        {
          "output_type": "stream",
          "text": [
            "0.11996287693912278\n"
          ],
          "name": "stdout"
        },
        {
          "output_type": "display_data",
          "data": {
            "image/png": "[encoded data removed]",
            "text/plain": [
              "<Figure size 432x288 with 1 Axes>"
            ]
          },
          "metadata": {
            "tags": [],
            "needs_background": "light"
          }
        }
      ]
    },
    {
      "cell_type": "markdown",
      "metadata": {
        "id": "xWTDdF5BuSLK",
        "colab_type": "text"
      },
      "source": [
        "Ridge Regression"
      ]
    },
    {
      "cell_type": "code",
      "metadata": {
        "id": "GrbMZaHJuXpe",
        "colab_type": "code",
        "colab": {
          "base_uri": "https://localhost:8080/",
          "height": 52
        },
        "outputId": "b1c5f5d9-3dde-43be-c296-292706077dbd"
      },
      "source": [
        "from sklearn.linear_model import Ridge\n",
        "\n",
        "rigreg = Ridge().fit(x_train, y_train)\n",
        "\n",
        "print(\"train\", rigreg.score(x_train,y_train))\n",
        "print(\"test\", rigreg.score(x_test,y_test))"
      ],
      "execution_count": 303,
      "outputs": [
        {
          "output_type": "stream",
          "text": [
            "train 0.72029053335627\n",
            "test 0.1854858219301464\n"
          ],
          "name": "stdout"
        }
      ]
    },
    {
      "cell_type": "markdown",
      "metadata": {
        "id": "-qNr8b8L0ntX",
        "colab_type": "text"
      },
      "source": [
        "Ridge Regression with Min Max Scaling"
      ]
    },
    {
      "cell_type": "code",
      "metadata": {
        "id": "-CCfoy3PZoLp",
        "colab_type": "code",
        "colab": {}
      },
      "source": [
        "from sklearn.preprocessing import MinMaxScaler\n",
        "\n",
        "scaler = MinMaxScaler()\n",
        "x_scaled = scaler.fit_transform(x)\n",
        "\n",
        "x_train_scaled, x_test_scaled, y_train_scaled,y_test_scaled = train_test_split(x_scaled, y, random_state = 0)"
      ],
      "execution_count": 0,
      "outputs": []
    },
    {
      "cell_type": "code",
      "metadata": {
        "id": "OKymH8FR0pNk",
        "colab_type": "code",
        "colab": {
          "base_uri": "https://localhost:8080/",
          "height": 52
        },
        "outputId": "ae48ff5e-d6fc-4486-eb7f-6a55991a024a"
      },
      "source": [
        "newridge = Ridge().fit(x_train_scaled, y_train_scaled)\n",
        "\n",
        "print(\"train\", newridge.score(x_train_scaled,y_train_scaled))\n",
        "print(\"test\", newridge.score(x_test_scaled,y_test_scaled))"
      ],
      "execution_count": 305,
      "outputs": [
        {
          "output_type": "stream",
          "text": [
            "train 0.5199061745325924\n",
            "test 0.2557591281893371\n"
          ],
          "name": "stdout"
        }
      ]
    },
    {
      "cell_type": "markdown",
      "metadata": {
        "id": "v9kCU1jkSnu_",
        "colab_type": "text"
      },
      "source": [
        "Lasso Regression\n"
      ]
    },
    {
      "cell_type": "code",
      "metadata": {
        "id": "Cg-Yh-SaSv8G",
        "colab_type": "code",
        "colab": {
          "base_uri": "https://localhost:8080/",
          "height": 52
        },
        "outputId": "a1536f70-a55f-439d-c299-5a805d79d738"
      },
      "source": [
        "from sklearn.linear_model import Lasso\n",
        "\n",
        "lasso = Lasso().fit(x_train_scaled,y_train)\n",
        "\n",
        "print(\"train\", lasso.score(x_train_scaled,y_train_scaled))\n",
        "print(\"test\", lasso.score(x_test_scaled,y_test_scaled))"
      ],
      "execution_count": 306,
      "outputs": [
        {
          "output_type": "stream",
          "text": [
            "train 0.0\n",
            "test -0.00014007564084606017\n"
          ],
          "name": "stdout"
        }
      ]
    },
    {
      "cell_type": "markdown",
      "metadata": {
        "id": "5iVJTEAQY3iF",
        "colab_type": "text"
      },
      "source": [
        "Polynomial Transformation"
      ]
    },
    {
      "cell_type": "code",
      "metadata": {
        "id": "fHG8-QNhY5mI",
        "colab_type": "code",
        "colab": {
          "base_uri": "https://localhost:8080/",
          "height": 52
        },
        "outputId": "553a87fc-5ec4-4542-c9a4-21c334489b5d"
      },
      "source": [
        "from sklearn.linear_model import LinearRegression\n",
        "from sklearn.preprocessing import PolynomialFeatures\n",
        "\n",
        "poly = PolynomialFeatures(degree=2)\n",
        "\n",
        "x_poly = poly.fit_transform(x)\n",
        "x_train_poly, x_test_poly,y_train_poly,  y_test_poly = train_test_split(x_poly, y, random_state = 0)\n",
        "\n",
        "linreg = LinearRegression().fit(x_train_poly, y_train_poly)\n",
        "print(\"train\", linreg.score(x_train_poly,y_train_poly))\n",
        "print(\"test\", linreg.score(x_test_poly,y_test_poly))"
      ],
      "execution_count": 307,
      "outputs": [
        {
          "output_type": "stream",
          "text": [
            "train 0.7663254685262668\n",
            "test -0.0991544733749321\n"
          ],
          "name": "stdout"
        }
      ]
    }
  ]
}