{
 "cells": [
  {
   "cell_type": "markdown",
   "metadata": {
    "colab_type": "text",
    "id": "rjggFVLkAaFJ"
   },
   "source": [
    "Review"
   ]
  },
  {
   "cell_type": "code",
   "execution_count": 1,
   "metadata": {
    "colab": {
     "base_uri": "https://localhost:8080/",
     "height": 34
    },
    "colab_type": "code",
    "id": "mV0YR9YDAXcs",
    "outputId": "a8e2ffaf-f877-4f18-bc58-06697cdb7dea"
   },
   "outputs": [
    {
     "ename": "ModuleNotFoundError",
     "evalue": "No module named 'pandas'",
     "output_type": "error",
     "traceback": [
      "\u001b[0;31m---------------------------------------------------------------------------\u001b[0m",
      "\u001b[0;31mModuleNotFoundError\u001b[0m                       Traceback (most recent call last)",
      "\u001b[0;32m<ipython-input-1-33632f6bf676>\u001b[0m in \u001b[0;36m<module>\u001b[0;34m\u001b[0m\n\u001b[0;32m----> 1\u001b[0;31m \u001b[0;32mimport\u001b[0m \u001b[0mpandas\u001b[0m \u001b[0;32mas\u001b[0m \u001b[0mpd\u001b[0m\u001b[0;34m\u001b[0m\u001b[0;34m\u001b[0m\u001b[0m\n\u001b[0m\u001b[1;32m      2\u001b[0m \u001b[0;32mimport\u001b[0m \u001b[0mnumpy\u001b[0m \u001b[0;32mas\u001b[0m \u001b[0mnp\u001b[0m\u001b[0;34m\u001b[0m\u001b[0;34m\u001b[0m\u001b[0m\n\u001b[1;32m      3\u001b[0m \u001b[0;32mfrom\u001b[0m \u001b[0msklearn\u001b[0m\u001b[0;34m.\u001b[0m\u001b[0mmodel_selection\u001b[0m \u001b[0;32mimport\u001b[0m \u001b[0mtrain_test_split\u001b[0m\u001b[0;34m\u001b[0m\u001b[0;34m\u001b[0m\u001b[0m\n\u001b[1;32m      4\u001b[0m \u001b[0;32mfrom\u001b[0m \u001b[0msklearn\u001b[0m\u001b[0;34m.\u001b[0m\u001b[0mneighbors\u001b[0m \u001b[0;32mimport\u001b[0m \u001b[0mKNeighborsClassifier\u001b[0m\u001b[0;34m\u001b[0m\u001b[0;34m\u001b[0m\u001b[0m\n\u001b[1;32m      5\u001b[0m \u001b[0;34m\u001b[0m\u001b[0m\n",
      "\u001b[0;31mModuleNotFoundError\u001b[0m: No module named 'pandas'"
     ]
    }
   ],
   "source": [
    "import pandas as pd\n",
    "import numpy as np\n",
    "from sklearn.model_selection import train_test_split\n",
    "from sklearn.neighbors import KNeighborsClassifier\n",
    "\n",
    "fruits = pd.read_table('fruit_colors.txt')\n",
    "\n",
    "X = fruits[['mass', 'width', 'height']]\n",
    "y = fruits['fruit_label']\n",
    "\n",
    "\n",
    "fruit_name = dict(zip(fruits['fruit_label'].unique(), fruits['fruit_name'].unique()))\n",
    "\n",
    "knn1 = KNeighborsClassifier(n_neighbors = 1)\n",
    "knn2 = KNeighborsClassifier(n_neighbors = 3)\n",
    "knn3 = KNeighborsClassifier(n_neighbors = 5)\n",
    "\n",
    "avg1 = 0\n",
    "avg2 = 0\n",
    "avg3 = 0\n",
    "\n",
    "for i in range(10):\n",
    "  X_train,X_test, y_train, y_test = train_test_split(X, y)\n",
    "  knn1.fit(X_train,y_train)\n",
    "  knn2.fit(X_train,y_train)\n",
    "  knn3.fit(X_train,y_train)\n",
    "\n",
    "\n",
    "  avg1 += knn1.score(X_test,y_test)\n",
    "  avg2 += knn2.score(X_test,y_test)\n",
    "  avg3 += knn3.score(X_test,y_test)\n",
    "\n",
    "avg1 /= 10\n",
    "avg2 /= 10\n",
    "avg3 /= 10\n",
    "\n",
    "print(avg1, \"   \", avg2, \"   \", avg3)"
   ]
  },
  {
   "cell_type": "markdown",
   "metadata": {
    "colab_type": "text",
    "id": "onLbmXtOK6Xj"
   },
   "source": [
    "Synthetic Datasets"
   ]
  },
  {
   "cell_type": "markdown",
   "metadata": {
    "colab_type": "text",
    "id": "MyDDFJ1FyTsH"
   },
   "source": [
    "Regression"
   ]
  },
  {
   "cell_type": "code",
   "execution_count": null,
   "metadata": {
    "colab": {
     "base_uri": "https://localhost:8080/",
     "height": 281
    },
    "colab_type": "code",
    "id": "IbXi77qaxfml",
    "outputId": "4a9d3fb2-b06a-4701-a4ad-51513d313506"
   },
   "outputs": [],
   "source": [
    "import matplotlib.pyplot as plt\n",
    "from sklearn.datasets import make_friedman1\n",
    "\n",
    "plt.figure()\n",
    "plt.title('Complex Regression with one variable')\n",
    "x_f1, y_f1 = make_friedman1(n_samples = 100, n_features= 7, random_state = 0)\n",
    "plt.scatter(x_f1[:, 2], y_f1, marker = 'o', s=50)\n",
    "plt.show()"
   ]
  },
  {
   "cell_type": "markdown",
   "metadata": {
    "colab_type": "text",
    "id": "QXKmJkDt0Nsf"
   },
   "source": [
    "Binary Classification"
   ]
  },
  {
   "cell_type": "code",
   "execution_count": null,
   "metadata": {
    "colab": {
     "base_uri": "https://localhost:8080/",
     "height": 281
    },
    "colab_type": "code",
    "id": "mBFLfjwA0KVR",
    "outputId": "f7aeb87b-4cb6-4f14-de96-c6a3a1619c9c"
   },
   "outputs": [],
   "source": [
    "from sklearn.datasets import make_classification\n",
    "\n",
    "plt.figure()\n",
    "plt.title('Binary Classification')\n",
    "x_c1, y_c1 = make_classification(n_samples = 100, n_features = 2, n_redundant = 0, n_informative = 2, n_clusters_per_class = 1, flip_y = 0.1,class_sep = 0.5, random_state = 0)\n",
    "plt.scatter(x_c1[:, 0], y_c1, s = 50, c = 'y')\n",
    "plt.scatter(x_c1[:, 1], y_c1, s = 50, c = 'r')\n",
    "\n",
    "plt.show()"
   ]
  },
  {
   "cell_type": "markdown",
   "metadata": {
    "colab_type": "text",
    "id": "buSwU20b4P9u"
   },
   "source": [
    "Knn Regression"
   ]
  },
  {
   "cell_type": "code",
   "execution_count": null,
   "metadata": {
    "colab": {
     "base_uri": "https://localhost:8080/",
     "height": 34
    },
    "colab_type": "code",
    "id": "GEDxfmSC4R-0",
    "outputId": "8ed893c9-a7db-4051-d8a6-cb32b9d735da"
   },
   "outputs": [],
   "source": [
    "import matplotlib.pyplot as plt\n",
    "import pandas as pd\n",
    "from sklearn.model_selection import train_test_split\n",
    "from sklearn.neighbors import KNeighborsRegressor\n",
    "\n",
    "fruits = pd.read_table('fruit_colors.txt')\n",
    "x = fruits[['mass', 'width','height', 'color_score']]\n",
    "y = fruits['fruit_label']\n",
    "\n",
    "x_train, x_test, y_train, y_test = train_test_split(x, y)\n",
    "\n",
    "knn = KNeighborsRegressor(n_neighbors=3).fit(x_train,y_train)\n",
    "print('R sq. test score', knn.score(x_test, y_test))"
   ]
  },
  {
   "cell_type": "markdown",
   "metadata": {
    "colab_type": "text",
    "id": "RQbSqsytTd3j"
   },
   "source": [
    "Linear Regression"
   ]
  },
  {
   "cell_type": "code",
   "execution_count": null,
   "metadata": {
    "colab": {},
    "colab_type": "code",
    "id": "0RhI6TI2u98j"
   },
   "outputs": [],
   "source": [
    "# Preprocess Data\n",
    "fruits = pd.read_table('fruit_colors.txt')\n",
    "x = fruits[['mass', 'width', 'height']]\n",
    "y = fruits['fruit_label']\n",
    "x_train, x_test, y_train, y_test = train_test_split(x,y)"
   ]
  },
  {
   "cell_type": "code",
   "execution_count": null,
   "metadata": {
    "colab": {
     "base_uri": "https://localhost:8080/",
     "height": 52
    },
    "colab_type": "code",
    "id": "0jKHGRKJTftS",
    "outputId": "95a48cc4-ced4-462a-cf9f-21afe61e5cf3"
   },
   "outputs": [],
   "source": [
    "from sklearn.model_selection import train_test_split\n",
    "from sklearn.linear_model import LinearRegression\n",
    "import pandas as pd\n",
    "import matplotlib.pyplot as plt\n",
    "\n",
    "linreg = LinearRegression().fit(x_train, y_train)\n",
    "print(linreg.intercept_)\n",
    "print(linreg.coef_)"
   ]
  },
  {
   "cell_type": "code",
   "execution_count": null,
   "metadata": {
    "colab": {
     "base_uri": "https://localhost:8080/",
     "height": 282
    },
    "colab_type": "code",
    "id": "HUDC20eHrL-2",
    "outputId": "8b9d75e3-c12b-46c4-95b8-23d4ca4917f5"
   },
   "outputs": [],
   "source": [
    "plt.figure()\n",
    "plt.scatter(x_test.iloc[:, 0], y_test)\n",
    "plt.plot(x_test.iloc[:, 0], linreg.predict(x_test), color= 'r')\n",
    "print(linreg.score(x_test, y_test))"
   ]
  },
  {
   "cell_type": "markdown",
   "metadata": {
    "colab_type": "text",
    "id": "xWTDdF5BuSLK"
   },
   "source": [
    "Ridge Regression"
   ]
  },
  {
   "cell_type": "markdown",
   "metadata": {
    "colab": {
     "base_uri": "https://localhost:8080/",
     "height": 34
    },
    "colab_type": "code",
    "id": "GrbMZaHJuXpe",
    "outputId": "18d4323c-e363-4f30-c61c-1f8fbb86228e"
   },
   "source": [
    "from sklearn.linear_model import Ridge\n",
    "\n",
    "rigreg = Ridge().fit(x_train, y_train)\n",
    "rigreg.score(x_test, y_test)"
   ]
  },
  {
   "cell_type": "markdown",
   "metadata": {},
   "source": [
    "Ridge Regression with Min Max scaling"
   ]
  },
  {
   "cell_type": "code",
   "execution_count": null,
   "metadata": {},
   "outputs": [],
   "source": [
    "from sklearn.preprocessing import MinMaxScaler\n",
    "\n",
    "scaler = MinMaxScaler()\n",
    "scaler.fit(x_train)\n",
    "x_train_scaled = scaler.transform(x_train)\n",
    "x_test_scaled = scaler.transform(x_test)\n",
    "\n",
    "newridge = Ridge().fit(x_train_scaled, y_train)\n",
    "newridge.score(x_test_scaled,y_test)"
   ]
  }
 ],
 "metadata": {
  "colab": {
   "name": "ML_week2.ipynb",
   "provenance": []
  },
  "kernelspec": {
   "display_name": "Python 3",
   "language": "python",
   "name": "python3"
  },
  "language_info": {
   "codemirror_mode": {
    "name": "ipython",
    "version": 3
   },
   "file_extension": ".py",
   "mimetype": "text/x-python",
   "name": "python",
   "nbconvert_exporter": "python",
   "pygments_lexer": "ipython3",
   "version": "3.8.3"
  }
 },
 "nbformat": 4,
 "nbformat_minor": 4
}
