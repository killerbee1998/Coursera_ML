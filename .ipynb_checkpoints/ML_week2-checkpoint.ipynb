{
 "cells": [
  {
   "cell_type": "markdown",
   "metadata": {
    "colab_type": "text",
    "id": "rjggFVLkAaFJ"
   },
   "source": [
    "Review"
   ]
  },
  {
   "cell_type": "code",
   "execution_count": 1,
   "metadata": {
    "colab": {
     "base_uri": "https://localhost:8080/",
     "height": 34
    },
    "colab_type": "code",
    "id": "mV0YR9YDAXcs",
    "outputId": "5d4c4be3-a516-4047-9e09-936f0df5c574"
   },
   "outputs": [
    {
     "name": "stdout",
     "output_type": "stream",
     "text": [
      "0.7000000000000001     0.6533333333333333     0.5533333333333333\n"
     ]
    }
   ],
   "source": [
    "import pandas as pd\n",
    "import numpy as np\n",
    "from sklearn.model_selection import train_test_split\n",
    "from sklearn.neighbors import KNeighborsClassifier\n",
    "\n",
    "fruits = pd.read_table('fruit_colors.txt')\n",
    "\n",
    "X = fruits[['mass', 'width', 'height']]\n",
    "y = fruits['fruit_label']\n",
    "\n",
    "\n",
    "fruit_name = dict(zip(fruits['fruit_label'].unique(), fruits['fruit_name'].unique()))\n",
    "\n",
    "knn1 = KNeighborsClassifier(n_neighbors = 1)\n",
    "knn2 = KNeighborsClassifier(n_neighbors = 3)\n",
    "knn3 = KNeighborsClassifier(n_neighbors = 5)\n",
    "\n",
    "avg1 = 0\n",
    "avg2 = 0\n",
    "avg3 = 0\n",
    "\n",
    "for i in range(10):\n",
    "  X_train,X_test, y_train, y_test = train_test_split(X, y)\n",
    "  knn1.fit(X_train,y_train)\n",
    "  knn2.fit(X_train,y_train)\n",
    "  knn3.fit(X_train,y_train)\n",
    "\n",
    "\n",
    "  avg1 += knn1.score(X_test,y_test)\n",
    "  avg2 += knn2.score(X_test,y_test)\n",
    "  avg3 += knn3.score(X_test,y_test)\n",
    "\n",
    "avg1 /= 10\n",
    "avg2 /= 10\n",
    "avg3 /= 10\n",
    "\n",
    "print(avg1, \"   \", avg2, \"   \", avg3)"
   ]
  },
  {
   "cell_type": "markdown",
   "metadata": {
    "colab_type": "text",
    "id": "onLbmXtOK6Xj"
   },
   "source": [
    "Synthetic Datasets"
   ]
  },
  {
   "cell_type": "markdown",
   "metadata": {
    "colab_type": "text",
    "id": "MyDDFJ1FyTsH"
   },
   "source": [
    "Regression"
   ]
  },
  {
   "cell_type": "code",
   "execution_count": 2,
   "metadata": {
    "colab": {
     "base_uri": "https://localhost:8080/",
     "height": 281
    },
    "colab_type": "code",
    "id": "IbXi77qaxfml",
    "outputId": "682082cd-d3f9-43af-9ccb-d93bcabf8287"
   },
   "outputs": [
    {
     "data": {
      "image/png": "[encoded data removed]",
      "text/plain": [
       "<Figure size 432x288 with 1 Axes>"
      ]
     },
     "metadata": {
      "needs_background": "light"
     },
     "output_type": "display_data"
    }
   ],
   "source": [
    "import matplotlib.pyplot as plt\n",
    "from sklearn.datasets import make_friedman1\n",
    "\n",
    "plt.figure()\n",
    "plt.title('Complex Regression with one variable')\n",
    "x_f1, y_f1 = make_friedman1(n_samples = 100, n_features= 7, random_state = 0)\n",
    "plt.scatter(x_f1[:, 2], y_f1, marker = 'o', s=50)\n",
    "plt.show()"
   ]
  },
  {
   "cell_type": "markdown",
   "metadata": {
    "colab_type": "text",
    "id": "QXKmJkDt0Nsf"
   },
   "source": [
    "Binary Classification"
   ]
  },
  {
   "cell_type": "code",
   "execution_count": 39,
   "metadata": {
    "colab": {
     "base_uri": "https://localhost:8080/",
     "height": 281
    },
    "colab_type": "code",
    "id": "mBFLfjwA0KVR",
    "outputId": "e657917f-59e8-4343-ad99-02d740bc10f5"
   },
   "outputs": [
    {
     "data": {
      "image/png": "[encoded data removed]",
      "text/plain": [
       "<Figure size 432x288 with 1 Axes>"
      ]
     },
     "metadata": {
      "needs_background": "light"
     },
     "output_type": "display_data"
    }
   ],
   "source": [
    "from sklearn.datasets import make_classification\n",
    "\n",
    "plt.figure()\n",
    "plt.title('Binary Classification')\n",
    "x_c1, y_c1 = make_classification(n_samples = 100, n_features = 2, n_redundant = 0, n_informative = 2, n_clusters_per_class = 1, flip_y = 0.1,class_sep = 0.5)\n",
    "plt.scatter( y_c1,x_c1[:, 0], s = 50, c = 'y')\n",
    "plt.scatter( y_c1,x_c1[:, 1], s = 50, c = 'r')\n",
    "\n",
    "plt.show()"
   ]
  },
  {
   "cell_type": "markdown",
   "metadata": {
    "colab_type": "text",
    "id": "buSwU20b4P9u"
   },
   "source": [
    "Knn Regression"
   ]
  },
  {
   "cell_type": "code",
   "execution_count": 4,
   "metadata": {
    "colab": {
     "base_uri": "https://localhost:8080/",
     "height": 34
    },
    "colab_type": "code",
    "id": "GEDxfmSC4R-0",
    "outputId": "bc9e2078-1f80-41b9-ee27-b340581667e9"
   },
   "outputs": [
    {
     "name": "stdout",
     "output_type": "stream",
     "text": [
      "R sq. test score 0.32909604519774005\n"
     ]
    }
   ],
   "source": [
    "import matplotlib.pyplot as plt\n",
    "import pandas as pd\n",
    "from sklearn.model_selection import train_test_split\n",
    "from sklearn.neighbors import KNeighborsRegressor\n",
    "\n",
    "fruits = pd.read_table('fruit_colors.txt')\n",
    "x = fruits[['mass', 'width','height', 'color_score']]\n",
    "y = fruits['fruit_label']\n",
    "\n",
    "x_train, x_test, y_train, y_test = train_test_split(x, y)\n",
    "\n",
    "knn = KNeighborsRegressor(n_neighbors=3).fit(x_train,y_train)\n",
    "print('R sq. test score', knn.score(x_test, y_test))"
   ]
  }
 ],
 "metadata": {
  "colab": {
   "name": "ML_week2.ipynb",
   "provenance": []
  },
  "kernelspec": {
   "display_name": "Python 3",
   "language": "python",
   "name": "python3"
  },
  "language_info": {
   "codemirror_mode": {
    "name": "ipython",
    "version": 3
   },
   "file_extension": ".py",
   "mimetype": "text/x-python",
   "name": "python",
   "nbconvert_exporter": "python",
   "pygments_lexer": "ipython3",
   "version": "3.7.6"
  }
 },
 "nbformat": 4,
 "nbformat_minor": 4
}
