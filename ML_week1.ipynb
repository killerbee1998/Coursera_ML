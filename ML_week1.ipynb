{
  "nbformat": 4,
  "nbformat_minor": 0,
  "metadata": {
    "colab": {
      "name": "Untitled",
      "provenance": []
    },
    "kernelspec": {
      "name": "python3",
      "display_name": "Python 3"
    }
  },
  "cells": [
    {
      "cell_type": "code",
      "metadata": {
        "id": "n2HF4VdfmSQm",
        "colab_type": "code",
        "outputId": "f43c4c91-d544-4502-b72c-7631b6b6df5a",
        "colab": {
          "base_uri": "https://localhost:8080/",
          "height": 206
        }
      },
      "source": [
        "import numpy as np\n",
        "import matplotlib.pyplot as plt\n",
        "import pandas as pd\n",
        "from sklearn.model_selection import train_test_split\n",
        "\n",
        "fruits = pd.read_table('fruit_colors.txt')\n",
        "fruits.head()"
      ],
      "execution_count": 50,
      "outputs": [
        {
          "output_type": "execute_result",
          "data": {
            "text/html": [
              "<div>\n",
              "<style scoped>\n",
              "    .dataframe tbody tr th:only-of-type {\n",
              "        vertical-align: middle;\n",
              "    }\n",
              "\n",
              "    .dataframe tbody tr th {\n",
              "        vertical-align: top;\n",
              "    }\n",
              "\n",
              "    .dataframe thead th {\n",
              "        text-align: right;\n",
              "    }\n",
              "</style>\n",
              "<table border=\"1\" class=\"dataframe\">\n",
              "  <thead>\n",
              "    <tr style=\"text-align: right;\">\n",
              "      <th></th>\n",
              "      <th>fruit_label</th>\n",
              "      <th>fruit_name</th>\n",
              "      <th>fruit_subtype</th>\n",
              "      <th>mass</th>\n",
              "      <th>width</th>\n",
              "      <th>height</th>\n",
              "      <th>color_score</th>\n",
              "    </tr>\n",
              "  </thead>\n",
              "  <tbody>\n",
              "    <tr>\n",
              "      <th>0</th>\n",
              "      <td>1</td>\n",
              "      <td>apple</td>\n",
              "      <td>granny_smith</td>\n",
              "      <td>192</td>\n",
              "      <td>8.4</td>\n",
              "      <td>7.3</td>\n",
              "      <td>0.55</td>\n",
              "    </tr>\n",
              "    <tr>\n",
              "      <th>1</th>\n",
              "      <td>1</td>\n",
              "      <td>apple</td>\n",
              "      <td>granny_smith</td>\n",
              "      <td>180</td>\n",
              "      <td>8.0</td>\n",
              "      <td>6.8</td>\n",
              "      <td>0.59</td>\n",
              "    </tr>\n",
              "    <tr>\n",
              "      <th>2</th>\n",
              "      <td>1</td>\n",
              "      <td>apple</td>\n",
              "      <td>granny_smith</td>\n",
              "      <td>176</td>\n",
              "      <td>7.4</td>\n",
              "      <td>7.2</td>\n",
              "      <td>0.60</td>\n",
              "    </tr>\n",
              "    <tr>\n",
              "      <th>3</th>\n",
              "      <td>2</td>\n",
              "      <td>mandarin</td>\n",
              "      <td>mandarin</td>\n",
              "      <td>86</td>\n",
              "      <td>6.2</td>\n",
              "      <td>4.7</td>\n",
              "      <td>0.80</td>\n",
              "    </tr>\n",
              "    <tr>\n",
              "      <th>4</th>\n",
              "      <td>2</td>\n",
              "      <td>mandarin</td>\n",
              "      <td>mandarin</td>\n",
              "      <td>84</td>\n",
              "      <td>6.0</td>\n",
              "      <td>4.6</td>\n",
              "      <td>0.79</td>\n",
              "    </tr>\n",
              "  </tbody>\n",
              "</table>\n",
              "</div>"
            ],
            "text/plain": [
              "   fruit_label fruit_name fruit_subtype  mass  width  height  color_score\n",
              "0            1      apple  granny_smith   192    8.4     7.3         0.55\n",
              "1            1      apple  granny_smith   180    8.0     6.8         0.59\n",
              "2            1      apple  granny_smith   176    7.4     7.2         0.60\n",
              "3            2   mandarin      mandarin    86    6.2     4.7         0.80\n",
              "4            2   mandarin      mandarin    84    6.0     4.6         0.79"
            ]
          },
          "metadata": {
            "tags": []
          },
          "execution_count": 50
        }
      ]
    },
    {
      "cell_type": "markdown",
      "metadata": {
        "id": "xaotlADlngoy",
        "colab_type": "text"
      },
      "source": [
        "Create a separate Training and Testing set"
      ]
    },
    {
      "cell_type": "code",
      "metadata": {
        "id": "ZIVDJd3pnlL1",
        "colab_type": "code",
        "colab": {}
      },
      "source": [
        "x = fruits[['mass','width', 'height']]\n",
        "y = fruits['fruit_label']\n",
        "x_train, x_test, y_train, y_test = train_test_split(x,y, random_state = 0)"
      ],
      "execution_count": 0,
      "outputs": []
    },
    {
      "cell_type": "code",
      "metadata": {
        "id": "s56Ocihlo2-H",
        "colab_type": "code",
        "outputId": "a0598437-df7a-437a-dff3-973b4cdb62cd",
        "colab": {
          "base_uri": "https://localhost:8080/",
          "height": 206
        }
      },
      "source": [
        "x_train.head()"
      ],
      "execution_count": 52,
      "outputs": [
        {
          "output_type": "execute_result",
          "data": {
            "text/html": [
              "<div>\n",
              "<style scoped>\n",
              "    .dataframe tbody tr th:only-of-type {\n",
              "        vertical-align: middle;\n",
              "    }\n",
              "\n",
              "    .dataframe tbody tr th {\n",
              "        vertical-align: top;\n",
              "    }\n",
              "\n",
              "    .dataframe thead th {\n",
              "        text-align: right;\n",
              "    }\n",
              "</style>\n",
              "<table border=\"1\" class=\"dataframe\">\n",
              "  <thead>\n",
              "    <tr style=\"text-align: right;\">\n",
              "      <th></th>\n",
              "      <th>mass</th>\n",
              "      <th>width</th>\n",
              "      <th>height</th>\n",
              "    </tr>\n",
              "  </thead>\n",
              "  <tbody>\n",
              "    <tr>\n",
              "      <th>42</th>\n",
              "      <td>154</td>\n",
              "      <td>7.2</td>\n",
              "      <td>7.2</td>\n",
              "    </tr>\n",
              "    <tr>\n",
              "      <th>48</th>\n",
              "      <td>174</td>\n",
              "      <td>7.3</td>\n",
              "      <td>10.1</td>\n",
              "    </tr>\n",
              "    <tr>\n",
              "      <th>7</th>\n",
              "      <td>76</td>\n",
              "      <td>5.8</td>\n",
              "      <td>4.0</td>\n",
              "    </tr>\n",
              "    <tr>\n",
              "      <th>14</th>\n",
              "      <td>152</td>\n",
              "      <td>7.6</td>\n",
              "      <td>7.3</td>\n",
              "    </tr>\n",
              "    <tr>\n",
              "      <th>32</th>\n",
              "      <td>164</td>\n",
              "      <td>7.2</td>\n",
              "      <td>7.0</td>\n",
              "    </tr>\n",
              "  </tbody>\n",
              "</table>\n",
              "</div>"
            ],
            "text/plain": [
              "    mass  width  height\n",
              "42   154    7.2     7.2\n",
              "48   174    7.3    10.1\n",
              "7     76    5.8     4.0\n",
              "14   152    7.6     7.3\n",
              "32   164    7.2     7.0"
            ]
          },
          "metadata": {
            "tags": []
          },
          "execution_count": 52
        }
      ]
    },
    {
      "cell_type": "code",
      "metadata": {
        "id": "Xa-MO2b8o4Ou",
        "colab_type": "code",
        "outputId": "eb739341-77b8-49de-e566-960418e97909",
        "colab": {
          "base_uri": "https://localhost:8080/",
          "height": 206
        }
      },
      "source": [
        "x_test.head()"
      ],
      "execution_count": 53,
      "outputs": [
        {
          "output_type": "execute_result",
          "data": {
            "text/html": [
              "<div>\n",
              "<style scoped>\n",
              "    .dataframe tbody tr th:only-of-type {\n",
              "        vertical-align: middle;\n",
              "    }\n",
              "\n",
              "    .dataframe tbody tr th {\n",
              "        vertical-align: top;\n",
              "    }\n",
              "\n",
              "    .dataframe thead th {\n",
              "        text-align: right;\n",
              "    }\n",
              "</style>\n",
              "<table border=\"1\" class=\"dataframe\">\n",
              "  <thead>\n",
              "    <tr style=\"text-align: right;\">\n",
              "      <th></th>\n",
              "      <th>mass</th>\n",
              "      <th>width</th>\n",
              "      <th>height</th>\n",
              "    </tr>\n",
              "  </thead>\n",
              "  <tbody>\n",
              "    <tr>\n",
              "      <th>26</th>\n",
              "      <td>362</td>\n",
              "      <td>9.6</td>\n",
              "      <td>9.2</td>\n",
              "    </tr>\n",
              "    <tr>\n",
              "      <th>35</th>\n",
              "      <td>150</td>\n",
              "      <td>7.1</td>\n",
              "      <td>7.9</td>\n",
              "    </tr>\n",
              "    <tr>\n",
              "      <th>43</th>\n",
              "      <td>194</td>\n",
              "      <td>7.2</td>\n",
              "      <td>10.3</td>\n",
              "    </tr>\n",
              "    <tr>\n",
              "      <th>28</th>\n",
              "      <td>140</td>\n",
              "      <td>6.7</td>\n",
              "      <td>7.1</td>\n",
              "    </tr>\n",
              "    <tr>\n",
              "      <th>11</th>\n",
              "      <td>172</td>\n",
              "      <td>7.1</td>\n",
              "      <td>7.6</td>\n",
              "    </tr>\n",
              "  </tbody>\n",
              "</table>\n",
              "</div>"
            ],
            "text/plain": [
              "    mass  width  height\n",
              "26   362    9.6     9.2\n",
              "35   150    7.1     7.9\n",
              "43   194    7.2    10.3\n",
              "28   140    6.7     7.1\n",
              "11   172    7.1     7.6"
            ]
          },
          "metadata": {
            "tags": []
          },
          "execution_count": 53
        }
      ]
    },
    {
      "cell_type": "code",
      "metadata": {
        "id": "fhXEsGKTo5k4",
        "colab_type": "code",
        "outputId": "c5a9c23a-b1bb-47fd-ba9c-e0895851e266",
        "colab": {
          "base_uri": "https://localhost:8080/",
          "height": 121
        }
      },
      "source": [
        "y_train.head()"
      ],
      "execution_count": 54,
      "outputs": [
        {
          "output_type": "execute_result",
          "data": {
            "text/plain": [
              "42    3\n",
              "48    4\n",
              "7     2\n",
              "14    1\n",
              "32    3\n",
              "Name: fruit_label, dtype: int64"
            ]
          },
          "metadata": {
            "tags": []
          },
          "execution_count": 54
        }
      ]
    },
    {
      "cell_type": "code",
      "metadata": {
        "id": "0PD8IYjxo7Gd",
        "colab_type": "code",
        "outputId": "a08c56f7-eb33-48d4-d192-df951be1af3f",
        "colab": {
          "base_uri": "https://localhost:8080/",
          "height": 121
        }
      },
      "source": [
        "y_test.head()"
      ],
      "execution_count": 55,
      "outputs": [
        {
          "output_type": "execute_result",
          "data": {
            "text/plain": [
              "26    3\n",
              "35    3\n",
              "43    4\n",
              "28    3\n",
              "11    1\n",
              "Name: fruit_label, dtype: int64"
            ]
          },
          "metadata": {
            "tags": []
          },
          "execution_count": 55
        }
      ]
    },
    {
      "cell_type": "markdown",
      "metadata": {
        "id": "r4dSKtZXrbl7",
        "colab_type": "text"
      },
      "source": [
        "Examine Data"
      ]
    },
    {
      "cell_type": "code",
      "metadata": {
        "id": "JC4qz4Gurc0r",
        "colab_type": "code",
        "outputId": "2e0a8f6f-6933-4c4d-897c-0b0772c5eed1",
        "colab": {
          "base_uri": "https://localhost:8080/",
          "height": 556
        }
      },
      "source": [
        "from matplotlib import cm\n",
        "cmap = cm.get_cmap('gnuplot')\n",
        "scatter = pd.plotting.scatter_matrix(x_train, c= y_train, marker = 'o', s=40, hist_kwds={'bins':15}, figsize=(9,9), cmap=cmap)"
      ],
      "execution_count": 56,
      "outputs": [
        {
          "output_type": "display_data",
          "data": {
            "image/png": "[encoded data removed]",
            "text/plain": [
              "<Figure size 648x648 with 9 Axes>"
            ]
          },
          "metadata": {
            "tags": [],
            "needs_background": "light"
          }
        }
      ]
    },
    {
      "cell_type": "markdown",
      "metadata": {
        "id": "ISKqEUqLcyAA",
        "colab_type": "text"
      },
      "source": [
        "k-NN Classifier"
      ]
    },
    {
      "cell_type": "code",
      "metadata": {
        "id": "BjPxRhEvc09a",
        "colab_type": "code",
        "colab": {
          "base_uri": "https://localhost:8080/",
          "height": 34
        },
        "outputId": "3bedb77b-4da2-4910-d34c-fbe3493e7f52"
      },
      "source": [
        "fruit_lookup = dict(zip(fruits['fruit_label'].unique(), fruits['fruit_name'].unique()))\n",
        "fruit_lookup"
      ],
      "execution_count": 57,
      "outputs": [
        {
          "output_type": "execute_result",
          "data": {
            "text/plain": [
              "{1: 'apple', 2: 'mandarin', 3: 'orange', 4: 'lemon'}"
            ]
          },
          "metadata": {
            "tags": []
          },
          "execution_count": 57
        }
      ]
    },
    {
      "cell_type": "code",
      "metadata": {
        "id": "wz5qL6hfdSy4",
        "colab_type": "code",
        "colab": {}
      },
      "source": [
        "x = fruits[['mass','width','height']]\n",
        "y = fruits['fruit_label']\n",
        "\n",
        "x_train,x_test,y_train,y_test = train_test_split(x,y,random_state = 0)"
      ],
      "execution_count": 0,
      "outputs": []
    },
    {
      "cell_type": "code",
      "metadata": {
        "id": "-QDOFMVpd9Uc",
        "colab_type": "code",
        "colab": {}
      },
      "source": [
        "# Create Classifier with 5 neighbours lookup\n",
        "\n",
        "from sklearn.neighbors import KNeighborsClassifier\n",
        "knn = KNeighborsClassifier(n_neighbors = 5)"
      ],
      "execution_count": 0,
      "outputs": []
    },
    {
      "cell_type": "code",
      "metadata": {
        "id": "64lWoCuJedUO",
        "colab_type": "code",
        "colab": {
          "base_uri": "https://localhost:8080/",
          "height": 69
        },
        "outputId": "4cff083d-9686-4906-9f7c-70413e8aa64a"
      },
      "source": [
        "# Train the knn classifier\n",
        "\n",
        "knn.fit(x_train,y_train)"
      ],
      "execution_count": 60,
      "outputs": [
        {
          "output_type": "execute_result",
          "data": {
            "text/plain": [
              "KNeighborsClassifier(algorithm='auto', leaf_size=30, metric='minkowski',\n",
              "                     metric_params=None, n_jobs=None, n_neighbors=5, p=2,\n",
              "                     weights='uniform')"
            ]
          },
          "metadata": {
            "tags": []
          },
          "execution_count": 60
        }
      ]
    },
    {
      "cell_type": "code",
      "metadata": {
        "id": "xBg_zbJ0evRL",
        "colab_type": "code",
        "colab": {
          "base_uri": "https://localhost:8080/",
          "height": 34
        },
        "outputId": "3a45d2a9-fea3-43c3-c5d5-01784fd9a587"
      },
      "source": [
        "# Estimate accuracy of classifier\n",
        "knn.score(x_test, y_test)"
      ],
      "execution_count": 61,
      "outputs": [
        {
          "output_type": "execute_result",
          "data": {
            "text/plain": [
              "0.5333333333333333"
            ]
          },
          "metadata": {
            "tags": []
          },
          "execution_count": 61
        }
      ]
    },
    {
      "cell_type": "code",
      "metadata": {
        "id": "uGVZfbwhe-1_",
        "colab_type": "code",
        "colab": {
          "base_uri": "https://localhost:8080/",
          "height": 34
        },
        "outputId": "f2bb0e98-f184-4f3b-93ce-28031cf7552b"
      },
      "source": [
        "# Use classifier to predict individual data\n",
        "\n",
        "new_fruit = [[20,4.3,5.5]]\n",
        "fruit_lookup[knn.predict(new_fruit)[0]]"
      ],
      "execution_count": 62,
      "outputs": [
        {
          "output_type": "execute_result",
          "data": {
            "text/plain": [
              "'mandarin'"
            ]
          },
          "metadata": {
            "tags": []
          },
          "execution_count": 62
        }
      ]
    }
  ]
}